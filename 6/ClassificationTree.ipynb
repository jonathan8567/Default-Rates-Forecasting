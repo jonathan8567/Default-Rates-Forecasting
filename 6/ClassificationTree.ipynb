{
 "cells": [
  {
   "cell_type": "markdown",
   "id": "689a2d29-2fd6-428c-9659-fd90be2ad5cf",
   "metadata": {},
   "source": [
    "## Agenda\n",
    "\n",
    "- Estimate a simple classification tree *without* penalisation\n",
    "- Estimate a simple classification tree *without* cross-validation \n",
    "\n",
    "### Upload the data and create the variables of interest\n",
    "\n",
    "Import the original mortgage data which are contained in the \"MortgageData.csv\" file. The data are imported by using the **pandas liibrary** via the usual command *import pandas as pd* "
   ]
  },
  {
   "cell_type": "code",
   "execution_count": 3,
   "id": "63cc6697-fd12-4346-ad98-f2471528058f",
   "metadata": {},
   "outputs": [
    {
     "data": {
      "text/html": [
       "<div>\n",
       "<style scoped>\n",
       "    .dataframe tbody tr th:only-of-type {\n",
       "        vertical-align: middle;\n",
       "    }\n",
       "\n",
       "    .dataframe tbody tr th {\n",
       "        vertical-align: top;\n",
       "    }\n",
       "\n",
       "    .dataframe thead th {\n",
       "        text-align: right;\n",
       "    }\n",
       "</style>\n",
       "<table border=\"1\" class=\"dataframe\">\n",
       "  <thead>\n",
       "    <tr style=\"text-align: right;\">\n",
       "      <th></th>\n",
       "      <th>balance</th>\n",
       "      <th>income</th>\n",
       "    </tr>\n",
       "  </thead>\n",
       "  <tbody>\n",
       "    <tr>\n",
       "      <th>count</th>\n",
       "      <td>10000.000000</td>\n",
       "      <td>10000.000000</td>\n",
       "    </tr>\n",
       "    <tr>\n",
       "      <th>mean</th>\n",
       "      <td>835.374886</td>\n",
       "      <td>33516.981876</td>\n",
       "    </tr>\n",
       "    <tr>\n",
       "      <th>std</th>\n",
       "      <td>483.714985</td>\n",
       "      <td>13336.639563</td>\n",
       "    </tr>\n",
       "    <tr>\n",
       "      <th>min</th>\n",
       "      <td>0.000000</td>\n",
       "      <td>771.967729</td>\n",
       "    </tr>\n",
       "    <tr>\n",
       "      <th>25%</th>\n",
       "      <td>481.731105</td>\n",
       "      <td>21340.462905</td>\n",
       "    </tr>\n",
       "    <tr>\n",
       "      <th>50%</th>\n",
       "      <td>823.636973</td>\n",
       "      <td>34552.644800</td>\n",
       "    </tr>\n",
       "    <tr>\n",
       "      <th>75%</th>\n",
       "      <td>1166.308387</td>\n",
       "      <td>43807.729275</td>\n",
       "    </tr>\n",
       "    <tr>\n",
       "      <th>max</th>\n",
       "      <td>2654.322576</td>\n",
       "      <td>73554.233500</td>\n",
       "    </tr>\n",
       "  </tbody>\n",
       "</table>\n",
       "</div>"
      ],
      "text/plain": [
       "            balance        income\n",
       "count  10000.000000  10000.000000\n",
       "mean     835.374886  33516.981876\n",
       "std      483.714985  13336.639563\n",
       "min        0.000000    771.967729\n",
       "25%      481.731105  21340.462905\n",
       "50%      823.636973  34552.644800\n",
       "75%     1166.308387  43807.729275\n",
       "max     2654.322576  73554.233500"
      ]
     },
     "execution_count": 3,
     "metadata": {},
     "output_type": "execute_result"
    }
   ],
   "source": [
    "import pandas as pd\n",
    "\n",
    "df = pd.read_csv(r'Default.csv', index_col =0)\n",
    "df.describe()"
   ]
  },
  {
   "cell_type": "markdown",
   "id": "e61d8ba4-54d3-4bff-b16a-511bab2b0826",
   "metadata": {},
   "source": [
    "The variable we want to predict here is the **default**. In particular, we want to predict how many times a credit card loan is defaulted based on a large set of individuals in the US. The predictors are the **balance** of account and the **income**. We need first to transform the default variabe from categorical to numerical. \n",
    "\n",
    "This can be done in a variety of alternative ways. The one we use here is simply set of a dummy equal to one for when default = YES and zero otherwise. "
   ]
  },
  {
   "cell_type": "code",
   "execution_count": 4,
   "id": "28dd2561-4c9a-434f-99e1-d10a536d5bd7",
   "metadata": {},
   "outputs": [],
   "source": [
    "import numpy as np\n",
    "\n",
    "df['default_dummy'] = np.where(df['default'].str.contains('Yes'), 1, 0)"
   ]
  },
  {
   "cell_type": "markdown",
   "id": "96e66963-f897-4cd6-b5f4-6b75bad8d1ec",
   "metadata": {},
   "source": [
    "We see that we created a set of dummy variables which coincides with the different categories of the loans. We are interested in the \"default_Yes\" category, so this dummy variable is going to be our target object we need to predict. \n",
    "\n",
    "As predictors we use a set of mortgage characteristics which are in the dataset, such as:\n",
    "\n",
    "- Balance of account (balance)\n",
    "- Household income (income)\n",
    "\n",
    "Since we have been working with a classification tree, there is NOT need to standardize the variables. "
   ]
  },
  {
   "cell_type": "code",
   "execution_count": 5,
   "id": "75ed7996-4b52-4cc0-82eb-7d07d058a7b8",
   "metadata": {},
   "outputs": [],
   "source": [
    "X = df[['balance','income']]\n",
    "y = df['default_dummy']"
   ]
  },
  {
   "cell_type": "markdown",
   "id": "379f8864-02d2-4269-80f8-683cb7b0424e",
   "metadata": {},
   "source": [
    "Since we wish to predict the default event for a loan out of sample, we need to split the sample of observations between those that will be used for training/validation and those which will be used for testing. This is done using the command **train_test_split**. Let consider a 50% of the observations for the training period and 50% for the testing period. "
   ]
  },
  {
   "cell_type": "code",
   "execution_count": 6,
   "id": "f7e768fa-a6c8-4bc4-ab6c-c187f835eb7c",
   "metadata": {},
   "outputs": [],
   "source": [
    "from sklearn.model_selection import train_test_split\n",
    "\n",
    "X_train, X_test, y_train, y_test = train_test_split(X, y, test_size=0.5, random_state=42, stratify=y)"
   ]
  },
  {
   "cell_type": "markdown",
   "id": "2726d2a0-72a1-4cb2-b461-f67a54ce8b2e",
   "metadata": {},
   "source": [
    "Notice that since the variable of interest is highly imbalanced, meaning there is only a small fraction of defaulted loans compared to the total amount of observations, we need to \"stratify\" the splitting, meaning we need to split between training/validation and testing in a way that keeps the proportion of default vs non-default comparable between the sample that is used for training and validation and the sample that is used for testing. "
   ]
  },
  {
   "cell_type": "markdown",
   "id": "1b5b8b8f-aa4b-4b1d-ad43-a35a7a3a28af",
   "metadata": {},
   "source": [
    "## Estimate a classification tree \n",
    "\n",
    "### Without cross-validation \n",
    "\n",
    "We first estimate a classification tree without cross validation of the model features, for instance, we assume the maximum number of layers (**max_depth**) is equal to 6."
   ]
  },
  {
   "cell_type": "code",
   "execution_count": 9,
   "id": "31d13308-af6a-4de0-b84c-e0f8fb3afc9a",
   "metadata": {},
   "outputs": [
    {
     "name": "stdout",
     "output_type": "stream",
     "text": [
      "[[4800   34]\n",
      " [ 124   42]]\n"
     ]
    }
   ],
   "source": [
    "from sklearn.tree import DecisionTreeClassifier\n",
    "\n",
    "dt = DecisionTreeClassifier(max_depth = 6)\n",
    "dt.fit(X_train, y_train)\n",
    "\n",
    "y_dt_pred = dt.predict(X_test)\n",
    "\n",
    "from sklearn import metrics\n",
    "\n",
    "print(metrics.confusion_matrix(y_test, y_dt_pred))"
   ]
  },
  {
   "cell_type": "markdown",
   "id": "f4dc6312-09cd-4620-b305-39752f9f9539",
   "metadata": {},
   "source": [
    "Next week, we will learn how to compare different estimates. For now, we can just focus on the model estimation. \n",
    "\n",
    "### With cross-validation \n",
    "\n",
    "Now, we are going to cross validate two different features of the classification tree. The maximum number of layers (**max_depth**) and the minimum number of samples required to split an internal node (**min_samples_leaf**)"
   ]
  },
  {
   "cell_type": "code",
   "execution_count": 10,
   "id": "8774754c-8dec-44ec-8f87-110fcbb5cb2e",
   "metadata": {},
   "outputs": [
    {
     "name": "stdout",
     "output_type": "stream",
     "text": [
      "Fitting 5 folds for each of 12 candidates, totalling 60 fits\n",
      "[[4807   27]\n",
      " [ 113   53]]\n"
     ]
    },
    {
     "name": "stderr",
     "output_type": "stream",
     "text": [
      "C:\\Users\\USER\\anaconda3\\lib\\site-packages\\sklearn\\model_selection\\_search.py:918: UserWarning: One or more of the test scores are non-finite: [0.9684    nan 0.9684 0.9704    nan 0.9706 0.9702    nan 0.9708 0.9696\n",
      "    nan 0.97  ]\n",
      "  warnings.warn(\n"
     ]
    }
   ],
   "source": [
    "dtree = DecisionTreeClassifier()\n",
    "\n",
    "# Define params_dt\n",
    "params_dt = {'max_depth': [2,3,4,6],\n",
    "             'min_samples_leaf': [1, 1.5, 2]}\n",
    "\n",
    "# Import GridSearchCV\n",
    "from sklearn.model_selection import GridSearchCV\n",
    "\n",
    "# Instantiate grid_dt\n",
    "dt_cv = GridSearchCV(estimator=dtree,\n",
    "                       param_grid=params_dt,\n",
    "                       scoring='accuracy',\n",
    "                       cv=5,#cv: cross validation folds, i.e. dividing into how many folds\n",
    "                       verbose=1,\n",
    "                       n_jobs=-1)\n",
    "\n",
    "dt_cv.fit(X_train, y_train)\n",
    "\n",
    "y_dt_cv_pred = dt_cv.predict(X_test)\n",
    "\n",
    "print(metrics.confusion_matrix(y_test, y_dt_cv_pred))"
   ]
  }
 ],
 "metadata": {
  "kernelspec": {
   "display_name": "Python 3",
   "language": "python",
   "name": "python3"
  },
  "language_info": {
   "codemirror_mode": {
    "name": "ipython",
    "version": 3
   },
   "file_extension": ".py",
   "mimetype": "text/x-python",
   "name": "python",
   "nbconvert_exporter": "python",
   "pygments_lexer": "ipython3",
   "version": "3.8.8"
  }
 },
 "nbformat": 4,
 "nbformat_minor": 5
}
