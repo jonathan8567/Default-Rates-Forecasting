{
 "cells": [
  {
   "cell_type": "markdown",
   "metadata": {},
   "source": [
    "# Pandas \n",
    "\n",
    "In this notebook we are going to dig deeper into the Pandas package. From creating a DataFrame, to make simple operations with the dataframe. The last part will cover how to import data and manipulate DataFrames\n",
    "\n",
    "## Introduction"
   ]
  },
  {
   "cell_type": "code",
   "execution_count": 1,
   "metadata": {},
   "outputs": [],
   "source": [
    "import numpy as np\n",
    "import pandas as pd"
   ]
  },
  {
   "cell_type": "markdown",
   "metadata": {},
   "source": [
    "Define a dataframe with Pandas"
   ]
  },
  {
   "cell_type": "code",
   "execution_count": 12,
   "metadata": {},
   "outputs": [
    {
     "name": "stdout",
     "output_type": "stream",
     "text": [
      "   icecream_sales  weather_coded  customers\n",
      "0              30              0       2000\n",
      "1              40              1       2100\n",
      "2              35              0       1500\n",
      "3             130              1       8000\n",
      "4             120              1       7200\n",
      "5              60              0       2000\n"
     ]
    }
   ],
   "source": [
    "icecream_sales = np.array([30, 40, 35, 130, 120, 60])\n",
    "weather_coded = np.array([0, 1, 0, 1, 1, 0])\n",
    "customers = np.array([2000, 2100, 1500, 8000, 7200, 2000])\n",
    "df = pd.DataFrame({'icecream_sales': icecream_sales,\n",
    "                   'weather_coded': weather_coded,\n",
    "                   'customers': customers})\n",
    "\n",
    "print(df)"
   ]
  },
  {
   "cell_type": "markdown",
   "metadata": {},
   "source": [
    "Define and assign an index (six ends of month starting in April, 2010)"
   ]
  },
  {
   "cell_type": "code",
   "execution_count": 14,
   "metadata": {},
   "outputs": [],
   "source": [
    "ourIndex = pd.date_range(start='04/2010', freq='M', periods=6)\n",
    "df.set_index(ourIndex, inplace=True)"
   ]
  },
  {
   "cell_type": "markdown",
   "metadata": {},
   "source": [
    "Print the DataFrame"
   ]
  },
  {
   "cell_type": "code",
   "execution_count": 15,
   "metadata": {},
   "outputs": [
    {
     "name": "stdout",
     "output_type": "stream",
     "text": [
      "df: \n",
      "            icecream_sales  weather_coded  customers\n",
      "2010-04-30              30              0       2000\n",
      "2010-05-31              40              1       2100\n",
      "2010-06-30              35              0       1500\n",
      "2010-07-31             130              1       8000\n",
      "2010-08-31             120              1       7200\n",
      "2010-09-30              60              0       2000\n",
      "\n"
     ]
    }
   ],
   "source": [
    "print(f'df: \\n{df}\\n')"
   ]
  },
  {
   "cell_type": "raw",
   "metadata": {},
   "source": [
    "Access columns by variable names"
   ]
  },
  {
   "cell_type": "code",
   "execution_count": 16,
   "metadata": {
    "tags": []
   },
   "outputs": [
    {
     "name": "stdout",
     "output_type": "stream",
     "text": [
      "subset1: \n",
      "            icecream_sales  customers\n",
      "2010-04-30              30       2000\n",
      "2010-05-31              40       2100\n",
      "2010-06-30              35       1500\n",
      "2010-07-31             130       8000\n",
      "2010-08-31             120       7200\n",
      "2010-09-30              60       2000\n",
      "\n"
     ]
    }
   ],
   "source": [
    "subset1 = df[['icecream_sales', 'customers']] #creating a subset only using column from the Dataframe, use double bracet '[[]]'\n",
    "print(f'subset1: \\n{subset1}\\n')"
   ]
  },
  {
   "cell_type": "raw",
   "metadata": {},
   "source": [
    "Access second to fourth row"
   ]
  },
  {
   "cell_type": "code",
   "execution_count": 17,
   "metadata": {},
   "outputs": [
    {
     "name": "stdout",
     "output_type": "stream",
     "text": [
      "subset2: \n",
      "            icecream_sales  weather_coded  customers\n",
      "2010-05-31              40              1       2100\n",
      "2010-06-30              35              0       1500\n",
      "2010-07-31             130              1       8000\n",
      "\n"
     ]
    }
   ],
   "source": [
    "subset2 = df[1:4]  # same as df['2010-05-31':'2010-07-31']\n",
    "#creating a subset only using row from the Dataframe, use single bracet '[]'\n",
    "print(f'subset2: \\n{subset2}\\n')"
   ]
  },
  {
   "cell_type": "markdown",
   "metadata": {},
   "source": [
    "Access rows and columns by index and variable names:"
   ]
  },
  {
   "cell_type": "code",
   "execution_count": 18,
   "metadata": {},
   "outputs": [
    {
     "name": "stdout",
     "output_type": "stream",
     "text": [
      "subset3: \n",
      "2100\n",
      "\n"
     ]
    }
   ],
   "source": [
    "subset3 = df.loc['2010-05-31', 'customers']  # same as df.iloc[1,2]\n",
    "#'.loc' use row and column name to select data\n",
    "#''.iloc' use row and column number to select data\n",
    "print(f'subset3: \\n{subset3}\\n')"
   ]
  },
  {
   "cell_type": "markdown",
   "metadata": {},
   "source": [
    "Access rows and columns by index and variable integer positions:"
   ]
  },
  {
   "cell_type": "code",
   "execution_count": 22,
   "metadata": {},
   "outputs": [
    {
     "name": "stdout",
     "output_type": "stream",
     "text": [
      "subset4: \n",
      "            icecream_sales  weather_coded\n",
      "2010-05-31              40              1\n",
      "2010-06-30              35              0\n",
      "2010-07-31             130              1\n",
      "\n"
     ]
    }
   ],
   "source": [
    "subset4 = df.iloc[1:4, 0:2]\n",
    "print(f'subset4: \\n{subset4}\\n')"
   ]
  },
  {
   "cell_type": "markdown",
   "metadata": {},
   "source": [
    "## DataFrame manipulation\n",
    "\n",
    "We are going to see now some of the operations that can be done based on the constructed data frame"
   ]
  },
  {
   "cell_type": "markdown",
   "metadata": {},
   "source": [
    "Include sales two months ago"
   ]
  },
  {
   "cell_type": "code",
   "execution_count": 25,
   "metadata": {},
   "outputs": [
    {
     "name": "stdout",
     "output_type": "stream",
     "text": [
      "df: \n",
      "            icecream_sales  weather_coded  customers  icecream_sales_lag2\n",
      "2010-04-30              30              0       2000                  NaN\n",
      "2010-05-31              40              1       2100                  NaN\n",
      "2010-06-30              35              0       1500                 30.0\n",
      "2010-07-31             130              1       8000                 40.0\n",
      "2010-08-31             120              1       7200                 35.0\n",
      "2010-09-30              60              0       2000                130.0\n",
      "\n"
     ]
    }
   ],
   "source": [
    "df['icecream_sales_lag2'] = df['icecream_sales'].shift(2)\n",
    "print(f'df: \\n{df}\\n')"
   ]
  },
  {
   "cell_type": "markdown",
   "metadata": {},
   "source": [
    "Use a pandas.Categorical object to attach labels (0 = bad; 1 = good):"
   ]
  },
  {
   "cell_type": "code",
   "execution_count": 26,
   "metadata": {},
   "outputs": [
    {
     "name": "stdout",
     "output_type": "stream",
     "text": [
      "df: \n",
      "            icecream_sales  weather_coded  customers  icecream_sales_lag2  \\\n",
      "2010-04-30              30              0       2000                  NaN   \n",
      "2010-05-31              40              1       2100                  NaN   \n",
      "2010-06-30              35              0       1500                 30.0   \n",
      "2010-07-31             130              1       8000                 40.0   \n",
      "2010-08-31             120              1       7200                 35.0   \n",
      "2010-09-30              60              0       2000                130.0   \n",
      "\n",
      "           weather  \n",
      "2010-04-30     bad  \n",
      "2010-05-31    good  \n",
      "2010-06-30     bad  \n",
      "2010-07-31    good  \n",
      "2010-08-31    good  \n",
      "2010-09-30     bad  \n",
      "\n"
     ]
    }
   ],
   "source": [
    "df['weather'] = pd.Categorical.from_codes(codes=df['weather_coded'],\n",
    "                                          categories=['bad', 'good'])\n",
    "print(f'df: \\n{df}\\n')"
   ]
  },
  {
   "cell_type": "markdown",
   "metadata": {},
   "source": [
    "Calculate the mean sales for each wheather category:"
   ]
  },
  {
   "cell_type": "code",
   "execution_count": 27,
   "metadata": {},
   "outputs": [
    {
     "name": "stdout",
     "output_type": "stream",
     "text": [
      "group_means: \n",
      "         icecream_sales  weather_coded    customers  icecream_sales_lag2\n",
      "weather                                                                 \n",
      "bad           41.666667            0.0  1833.333333                 80.0\n",
      "good          96.666667            1.0  5766.666667                 37.5\n",
      "\n"
     ]
    }
   ],
   "source": [
    "group_means = df.groupby('weather').mean()\n",
    "print(f'group_means: \\n{group_means}\\n')"
   ]
  },
  {
   "cell_type": "markdown",
   "metadata": {},
   "source": [
    "Calculated the median sales for each wheather category:"
   ]
  },
  {
   "cell_type": "code",
   "execution_count": 28,
   "metadata": {},
   "outputs": [
    {
     "name": "stdout",
     "output_type": "stream",
     "text": [
      "group_means: \n",
      "         icecream_sales  weather_coded  customers  icecream_sales_lag2\n",
      "weather                                                               \n",
      "bad                35.0            0.0     2000.0                 80.0\n",
      "good              120.0            1.0     7200.0                 37.5\n",
      "\n"
     ]
    }
   ],
   "source": [
    "group_means = df.groupby('weather').median()\n",
    "print(f'group_means: \\n{group_means}\\n')"
   ]
  }
 ],
 "metadata": {
  "kernelspec": {
   "display_name": "Python 3",
   "language": "python",
   "name": "python3"
  },
  "language_info": {
   "codemirror_mode": {
    "name": "ipython",
    "version": 3
   },
   "file_extension": ".py",
   "mimetype": "text/x-python",
   "name": "python",
   "nbconvert_exporter": "python",
   "pygments_lexer": "ipython3",
   "version": "3.8.8"
  }
 },
 "nbformat": 4,
 "nbformat_minor": 4
}
