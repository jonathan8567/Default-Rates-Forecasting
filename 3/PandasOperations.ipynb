{
 "cells": [
  {
   "cell_type": "markdown",
   "metadata": {},
   "source": [
    "# Pandas \n",
    "\n",
    "In this notebook we are going to further explore some of the ***pandas*** operations and plots. \n",
    "\n",
    "## Introduction\n",
    "\n",
    "As usual, let's upload the packages that we need to run the exercise"
   ]
  },
  {
   "cell_type": "code",
   "execution_count": 1,
   "metadata": {},
   "outputs": [],
   "source": [
    "import numpy as np\n",
    "import pandas as pd"
   ]
  },
  {
   "cell_type": "markdown",
   "metadata": {},
   "source": [
    "The first step is to upload the data which consist of credit information for a cross section of 400 individuals. "
   ]
  },
  {
   "cell_type": "code",
   "execution_count": 3,
   "metadata": {},
   "outputs": [
    {
     "data": {
      "text/html": [
       "<div>\n",
       "<style scoped>\n",
       "    .dataframe tbody tr th:only-of-type {\n",
       "        vertical-align: middle;\n",
       "    }\n",
       "\n",
       "    .dataframe tbody tr th {\n",
       "        vertical-align: top;\n",
       "    }\n",
       "\n",
       "    .dataframe thead th {\n",
       "        text-align: right;\n",
       "    }\n",
       "</style>\n",
       "<table border=\"1\" class=\"dataframe\">\n",
       "  <thead>\n",
       "    <tr style=\"text-align: right;\">\n",
       "      <th></th>\n",
       "      <th>Income</th>\n",
       "      <th>Limit</th>\n",
       "      <th>Rating</th>\n",
       "      <th>Cards</th>\n",
       "      <th>Age</th>\n",
       "      <th>Education</th>\n",
       "      <th>Own</th>\n",
       "      <th>Student</th>\n",
       "      <th>Married</th>\n",
       "      <th>Region</th>\n",
       "      <th>Balance</th>\n",
       "    </tr>\n",
       "    <tr>\n",
       "      <th>Id</th>\n",
       "      <th></th>\n",
       "      <th></th>\n",
       "      <th></th>\n",
       "      <th></th>\n",
       "      <th></th>\n",
       "      <th></th>\n",
       "      <th></th>\n",
       "      <th></th>\n",
       "      <th></th>\n",
       "      <th></th>\n",
       "      <th></th>\n",
       "    </tr>\n",
       "  </thead>\n",
       "  <tbody>\n",
       "    <tr>\n",
       "      <th>1</th>\n",
       "      <td>14.891</td>\n",
       "      <td>3606</td>\n",
       "      <td>283</td>\n",
       "      <td>2</td>\n",
       "      <td>34</td>\n",
       "      <td>11</td>\n",
       "      <td>No</td>\n",
       "      <td>No</td>\n",
       "      <td>Yes</td>\n",
       "      <td>South</td>\n",
       "      <td>333</td>\n",
       "    </tr>\n",
       "    <tr>\n",
       "      <th>2</th>\n",
       "      <td>106.025</td>\n",
       "      <td>6645</td>\n",
       "      <td>483</td>\n",
       "      <td>3</td>\n",
       "      <td>82</td>\n",
       "      <td>15</td>\n",
       "      <td>Yes</td>\n",
       "      <td>Yes</td>\n",
       "      <td>Yes</td>\n",
       "      <td>West</td>\n",
       "      <td>903</td>\n",
       "    </tr>\n",
       "    <tr>\n",
       "      <th>3</th>\n",
       "      <td>104.593</td>\n",
       "      <td>7075</td>\n",
       "      <td>514</td>\n",
       "      <td>4</td>\n",
       "      <td>71</td>\n",
       "      <td>11</td>\n",
       "      <td>No</td>\n",
       "      <td>No</td>\n",
       "      <td>No</td>\n",
       "      <td>West</td>\n",
       "      <td>580</td>\n",
       "    </tr>\n",
       "    <tr>\n",
       "      <th>4</th>\n",
       "      <td>148.924</td>\n",
       "      <td>9504</td>\n",
       "      <td>681</td>\n",
       "      <td>3</td>\n",
       "      <td>36</td>\n",
       "      <td>11</td>\n",
       "      <td>Yes</td>\n",
       "      <td>No</td>\n",
       "      <td>No</td>\n",
       "      <td>West</td>\n",
       "      <td>964</td>\n",
       "    </tr>\n",
       "    <tr>\n",
       "      <th>5</th>\n",
       "      <td>55.882</td>\n",
       "      <td>4897</td>\n",
       "      <td>357</td>\n",
       "      <td>2</td>\n",
       "      <td>68</td>\n",
       "      <td>16</td>\n",
       "      <td>No</td>\n",
       "      <td>No</td>\n",
       "      <td>Yes</td>\n",
       "      <td>South</td>\n",
       "      <td>331</td>\n",
       "    </tr>\n",
       "    <tr>\n",
       "      <th>6</th>\n",
       "      <td>80.180</td>\n",
       "      <td>8047</td>\n",
       "      <td>569</td>\n",
       "      <td>4</td>\n",
       "      <td>77</td>\n",
       "      <td>10</td>\n",
       "      <td>No</td>\n",
       "      <td>No</td>\n",
       "      <td>No</td>\n",
       "      <td>South</td>\n",
       "      <td>1151</td>\n",
       "    </tr>\n",
       "    <tr>\n",
       "      <th>7</th>\n",
       "      <td>20.996</td>\n",
       "      <td>3388</td>\n",
       "      <td>259</td>\n",
       "      <td>2</td>\n",
       "      <td>37</td>\n",
       "      <td>12</td>\n",
       "      <td>Yes</td>\n",
       "      <td>No</td>\n",
       "      <td>No</td>\n",
       "      <td>East</td>\n",
       "      <td>203</td>\n",
       "    </tr>\n",
       "    <tr>\n",
       "      <th>8</th>\n",
       "      <td>71.408</td>\n",
       "      <td>7114</td>\n",
       "      <td>512</td>\n",
       "      <td>2</td>\n",
       "      <td>87</td>\n",
       "      <td>9</td>\n",
       "      <td>No</td>\n",
       "      <td>No</td>\n",
       "      <td>No</td>\n",
       "      <td>West</td>\n",
       "      <td>872</td>\n",
       "    </tr>\n",
       "    <tr>\n",
       "      <th>9</th>\n",
       "      <td>15.125</td>\n",
       "      <td>3300</td>\n",
       "      <td>266</td>\n",
       "      <td>5</td>\n",
       "      <td>66</td>\n",
       "      <td>13</td>\n",
       "      <td>Yes</td>\n",
       "      <td>No</td>\n",
       "      <td>No</td>\n",
       "      <td>South</td>\n",
       "      <td>279</td>\n",
       "    </tr>\n",
       "    <tr>\n",
       "      <th>10</th>\n",
       "      <td>71.061</td>\n",
       "      <td>6819</td>\n",
       "      <td>491</td>\n",
       "      <td>3</td>\n",
       "      <td>41</td>\n",
       "      <td>19</td>\n",
       "      <td>Yes</td>\n",
       "      <td>Yes</td>\n",
       "      <td>Yes</td>\n",
       "      <td>East</td>\n",
       "      <td>1350</td>\n",
       "    </tr>\n",
       "  </tbody>\n",
       "</table>\n",
       "</div>"
      ],
      "text/plain": [
       "     Income  Limit  Rating  Cards  Age  Education  Own Student Married Region  \\\n",
       "Id                                                                              \n",
       "1    14.891   3606     283      2   34         11   No      No     Yes  South   \n",
       "2   106.025   6645     483      3   82         15  Yes     Yes     Yes   West   \n",
       "3   104.593   7075     514      4   71         11   No      No      No   West   \n",
       "4   148.924   9504     681      3   36         11  Yes      No      No   West   \n",
       "5    55.882   4897     357      2   68         16   No      No     Yes  South   \n",
       "6    80.180   8047     569      4   77         10   No      No      No  South   \n",
       "7    20.996   3388     259      2   37         12  Yes      No      No   East   \n",
       "8    71.408   7114     512      2   87          9   No      No      No   West   \n",
       "9    15.125   3300     266      5   66         13  Yes      No      No  South   \n",
       "10   71.061   6819     491      3   41         19  Yes     Yes     Yes   East   \n",
       "\n",
       "    Balance  \n",
       "Id           \n",
       "1       333  \n",
       "2       903  \n",
       "3       580  \n",
       "4       964  \n",
       "5       331  \n",
       "6      1151  \n",
       "7       203  \n",
       "8       872  \n",
       "9       279  \n",
       "10     1350  "
      ]
     },
     "execution_count": 3,
     "metadata": {},
     "output_type": "execute_result"
    }
   ],
   "source": [
    "df = pd.read_csv('Credit.csv')\n",
    "df.set_index('Id', inplace = True) # set 'ID' as index of the dataframe\n",
    "df.head(10) # this is to see the first 10 rows of the dataframe"
   ]
  },
  {
   "cell_type": "markdown",
   "metadata": {},
   "source": [
    "Save the names of all input features in a variable called **names** which can be used later for the plots. "
   ]
  },
  {
   "cell_type": "code",
   "execution_count": 4,
   "metadata": {},
   "outputs": [
    {
     "name": "stdout",
     "output_type": "stream",
     "text": [
      "Index(['Income', 'Limit', 'Rating', 'Cards', 'Age', 'Education', 'Own',\n",
      "       'Student', 'Married', 'Region', 'Balance'],\n",
      "      dtype='object')\n"
     ]
    }
   ],
   "source": [
    "names = df.columns\n",
    "print(names)"
   ]
  },
  {
   "cell_type": "markdown",
   "metadata": {},
   "source": [
    "Let drop the non-numerical variables. These are 'Own','Student','Married','Region'"
   ]
  },
  {
   "cell_type": "code",
   "execution_count": 7,
   "metadata": {},
   "outputs": [],
   "source": [
    "df1 = df.drop(['Education','Own','Student', 'Married', 'Region'], axis = 1)"
   ]
  },
  {
   "cell_type": "markdown",
   "metadata": {},
   "source": [
    "We now calculate a set of decriptive statistics for the data, such as the mean, the variance, the skewness and the kurtosis."
   ]
  },
  {
   "cell_type": "markdown",
   "metadata": {},
   "source": [
    "We notice that variables have a different scale, for instance, credit **Limit** and **Rating** they have a rather different scale. As a good practive we want to rescale the data so that all variables have the same scale. "
   ]
  },
  {
   "cell_type": "code",
   "execution_count": 8,
   "metadata": {},
   "outputs": [
    {
     "data": {
      "text/html": [
       "<div>\n",
       "<style scoped>\n",
       "    .dataframe tbody tr th:only-of-type {\n",
       "        vertical-align: middle;\n",
       "    }\n",
       "\n",
       "    .dataframe tbody tr th {\n",
       "        vertical-align: top;\n",
       "    }\n",
       "\n",
       "    .dataframe thead th {\n",
       "        text-align: right;\n",
       "    }\n",
       "</style>\n",
       "<table border=\"1\" class=\"dataframe\">\n",
       "  <thead>\n",
       "    <tr style=\"text-align: right;\">\n",
       "      <th></th>\n",
       "      <th>Income</th>\n",
       "      <th>Limit</th>\n",
       "      <th>Rating</th>\n",
       "      <th>Cards</th>\n",
       "      <th>Age</th>\n",
       "      <th>Balance</th>\n",
       "    </tr>\n",
       "  </thead>\n",
       "  <tbody>\n",
       "    <tr>\n",
       "      <th>count</th>\n",
       "      <td>400.000000</td>\n",
       "      <td>400.000000</td>\n",
       "      <td>400.000000</td>\n",
       "      <td>400.000000</td>\n",
       "      <td>400.000000</td>\n",
       "      <td>400.000000</td>\n",
       "    </tr>\n",
       "    <tr>\n",
       "      <th>mean</th>\n",
       "      <td>1.283014</td>\n",
       "      <td>2.051643</td>\n",
       "      <td>2.294018</td>\n",
       "      <td>2.156752</td>\n",
       "      <td>3.227138</td>\n",
       "      <td>1.131060</td>\n",
       "    </tr>\n",
       "    <tr>\n",
       "      <th>std</th>\n",
       "      <td>1.000000</td>\n",
       "      <td>1.000000</td>\n",
       "      <td>1.000000</td>\n",
       "      <td>1.000000</td>\n",
       "      <td>1.000000</td>\n",
       "      <td>1.000000</td>\n",
       "    </tr>\n",
       "    <tr>\n",
       "      <th>min</th>\n",
       "      <td>0.293778</td>\n",
       "      <td>0.370419</td>\n",
       "      <td>0.601070</td>\n",
       "      <td>0.729248</td>\n",
       "      <td>1.333348</td>\n",
       "      <td>0.000000</td>\n",
       "    </tr>\n",
       "    <tr>\n",
       "      <th>25%</th>\n",
       "      <td>0.596047</td>\n",
       "      <td>1.337840</td>\n",
       "      <td>1.598005</td>\n",
       "      <td>1.458497</td>\n",
       "      <td>2.420317</td>\n",
       "      <td>0.149535</td>\n",
       "    </tr>\n",
       "    <tr>\n",
       "      <th>50%</th>\n",
       "      <td>0.939599</td>\n",
       "      <td>2.002644</td>\n",
       "      <td>2.223312</td>\n",
       "      <td>2.187745</td>\n",
       "      <td>3.246413</td>\n",
       "      <td>0.999437</td>\n",
       "    </tr>\n",
       "    <tr>\n",
       "      <th>75%</th>\n",
       "      <td>1.630641</td>\n",
       "      <td>2.544300</td>\n",
       "      <td>2.825997</td>\n",
       "      <td>2.916994</td>\n",
       "      <td>4.058016</td>\n",
       "      <td>1.877071</td>\n",
       "    </tr>\n",
       "    <tr>\n",
       "      <th>max</th>\n",
       "      <td>5.295442</td>\n",
       "      <td>6.027644</td>\n",
       "      <td>6.346779</td>\n",
       "      <td>6.563236</td>\n",
       "      <td>5.681223</td>\n",
       "      <td>4.347931</td>\n",
       "    </tr>\n",
       "  </tbody>\n",
       "</table>\n",
       "</div>"
      ],
      "text/plain": [
       "           Income       Limit      Rating       Cards         Age     Balance\n",
       "count  400.000000  400.000000  400.000000  400.000000  400.000000  400.000000\n",
       "mean     1.283014    2.051643    2.294018    2.156752    3.227138    1.131060\n",
       "std      1.000000    1.000000    1.000000    1.000000    1.000000    1.000000\n",
       "min      0.293778    0.370419    0.601070    0.729248    1.333348    0.000000\n",
       "25%      0.596047    1.337840    1.598005    1.458497    2.420317    0.149535\n",
       "50%      0.939599    2.002644    2.223312    2.187745    3.246413    0.999437\n",
       "75%      1.630641    2.544300    2.825997    2.916994    4.058016    1.877071\n",
       "max      5.295442    6.027644    6.346779    6.563236    5.681223    4.347931"
      ]
     },
     "execution_count": 8,
     "metadata": {},
     "output_type": "execute_result"
    }
   ],
   "source": [
    "# call .std() method to get std of every column\n",
    "df2 = df1/df1.std()\n",
    "\n",
    "# .describe() to get all stats per column for df2\n",
    "df2.describe()"
   ]
  },
  {
   "cell_type": "markdown",
   "metadata": {},
   "source": [
    "We see now that all variables have standard deviation equal to one. Notice that we could also substract the mean that we create a new variable $z=(x-mu)/sd$, where $mu$ is the mean and $sd$ is the sample standard deviation of the data. "
   ]
  },
  {
   "cell_type": "code",
   "execution_count": 11,
   "metadata": {},
   "outputs": [
    {
     "data": {
      "text/html": [
       "<div>\n",
       "<style scoped>\n",
       "    .dataframe tbody tr th:only-of-type {\n",
       "        vertical-align: middle;\n",
       "    }\n",
       "\n",
       "    .dataframe tbody tr th {\n",
       "        vertical-align: top;\n",
       "    }\n",
       "\n",
       "    .dataframe thead th {\n",
       "        text-align: right;\n",
       "    }\n",
       "</style>\n",
       "<table border=\"1\" class=\"dataframe\">\n",
       "  <thead>\n",
       "    <tr style=\"text-align: right;\">\n",
       "      <th></th>\n",
       "      <th>Income</th>\n",
       "      <th>Limit</th>\n",
       "      <th>Rating</th>\n",
       "      <th>Cards</th>\n",
       "      <th>Age</th>\n",
       "      <th>Balance</th>\n",
       "    </tr>\n",
       "  </thead>\n",
       "  <tbody>\n",
       "    <tr>\n",
       "      <th>count</th>\n",
       "      <td>4.000000e+02</td>\n",
       "      <td>4.000000e+02</td>\n",
       "      <td>4.000000e+02</td>\n",
       "      <td>4.000000e+02</td>\n",
       "      <td>4.000000e+02</td>\n",
       "      <td>4.000000e+02</td>\n",
       "    </tr>\n",
       "    <tr>\n",
       "      <th>mean</th>\n",
       "      <td>-1.033063e-15</td>\n",
       "      <td>-1.566802e-16</td>\n",
       "      <td>1.679212e-17</td>\n",
       "      <td>4.496403e-17</td>\n",
       "      <td>2.196854e-16</td>\n",
       "      <td>2.942091e-17</td>\n",
       "    </tr>\n",
       "    <tr>\n",
       "      <th>std</th>\n",
       "      <td>1.000000e+00</td>\n",
       "      <td>1.000000e+00</td>\n",
       "      <td>1.000000e+00</td>\n",
       "      <td>1.000000e+00</td>\n",
       "      <td>1.000000e+00</td>\n",
       "      <td>1.000000e+00</td>\n",
       "    </tr>\n",
       "    <tr>\n",
       "      <th>min</th>\n",
       "      <td>-9.892355e-01</td>\n",
       "      <td>-1.681224e+00</td>\n",
       "      <td>-1.692948e+00</td>\n",
       "      <td>-1.427504e+00</td>\n",
       "      <td>-1.893789e+00</td>\n",
       "      <td>-1.131060e+00</td>\n",
       "    </tr>\n",
       "    <tr>\n",
       "      <th>25%</th>\n",
       "      <td>-6.869665e-01</td>\n",
       "      <td>-7.138033e-01</td>\n",
       "      <td>-6.960129e-01</td>\n",
       "      <td>-6.982553e-01</td>\n",
       "      <td>-8.068206e-01</td>\n",
       "      <td>-9.815254e-01</td>\n",
       "    </tr>\n",
       "    <tr>\n",
       "      <th>50%</th>\n",
       "      <td>-3.434142e-01</td>\n",
       "      <td>-4.899924e-02</td>\n",
       "      <td>-7.070648e-02</td>\n",
       "      <td>3.099306e-02</td>\n",
       "      <td>1.927558e-02</td>\n",
       "      <td>-1.316233e-01</td>\n",
       "    </tr>\n",
       "    <tr>\n",
       "      <th>75%</th>\n",
       "      <td>3.476271e-01</td>\n",
       "      <td>4.926569e-01</td>\n",
       "      <td>5.319790e-01</td>\n",
       "      <td>7.602415e-01</td>\n",
       "      <td>8.308789e-01</td>\n",
       "      <td>7.460106e-01</td>\n",
       "    </tr>\n",
       "    <tr>\n",
       "      <th>max</th>\n",
       "      <td>4.012428e+00</td>\n",
       "      <td>3.976001e+00</td>\n",
       "      <td>4.052761e+00</td>\n",
       "      <td>4.406483e+00</td>\n",
       "      <td>2.454085e+00</td>\n",
       "      <td>3.216871e+00</td>\n",
       "    </tr>\n",
       "  </tbody>\n",
       "</table>\n",
       "</div>"
      ],
      "text/plain": [
       "             Income         Limit        Rating         Cards           Age  \\\n",
       "count  4.000000e+02  4.000000e+02  4.000000e+02  4.000000e+02  4.000000e+02   \n",
       "mean  -1.033063e-15 -1.566802e-16  1.679212e-17  4.496403e-17  2.196854e-16   \n",
       "std    1.000000e+00  1.000000e+00  1.000000e+00  1.000000e+00  1.000000e+00   \n",
       "min   -9.892355e-01 -1.681224e+00 -1.692948e+00 -1.427504e+00 -1.893789e+00   \n",
       "25%   -6.869665e-01 -7.138033e-01 -6.960129e-01 -6.982553e-01 -8.068206e-01   \n",
       "50%   -3.434142e-01 -4.899924e-02 -7.070648e-02  3.099306e-02  1.927558e-02   \n",
       "75%    3.476271e-01  4.926569e-01  5.319790e-01  7.602415e-01  8.308789e-01   \n",
       "max    4.012428e+00  3.976001e+00  4.052761e+00  4.406483e+00  2.454085e+00   \n",
       "\n",
       "            Balance  \n",
       "count  4.000000e+02  \n",
       "mean   2.942091e-17  \n",
       "std    1.000000e+00  \n",
       "min   -1.131060e+00  \n",
       "25%   -9.815254e-01  \n",
       "50%   -1.316233e-01  \n",
       "75%    7.460106e-01  \n",
       "max    3.216871e+00  "
      ]
     },
     "execution_count": 11,
     "metadata": {},
     "output_type": "execute_result"
    }
   ],
   "source": [
    "# standardizing the column 𝑧=(𝑥−𝑚𝑢)/𝑠𝑑\n",
    "df3 = (df1 - df1.mean())/df1.std()\n",
    "df3.describe()"
   ]
  },
  {
   "cell_type": "markdown",
   "metadata": {},
   "source": [
    "We see now that the mean of the new dataframe **df2** is zero and the variance is equal to one. "
   ]
  },
  {
   "cell_type": "markdown",
   "metadata": {},
   "source": [
    "One important function of **pandas** is the function **groupby()**. This allows you to group data (by applying aggregate functions like sum, max, min…) with the same values into summary row. Suppose that for instance we want to calculate the average value of each variable depending on the geographical region where individuals are or if an individual is married or not. "
   ]
  },
  {
   "cell_type": "code",
   "execution_count": 12,
   "metadata": {},
   "outputs": [
    {
     "data": {
      "text/html": [
       "<div>\n",
       "<style scoped>\n",
       "    .dataframe tbody tr th:only-of-type {\n",
       "        vertical-align: middle;\n",
       "    }\n",
       "\n",
       "    .dataframe tbody tr th {\n",
       "        vertical-align: top;\n",
       "    }\n",
       "\n",
       "    .dataframe thead th {\n",
       "        text-align: right;\n",
       "    }\n",
       "</style>\n",
       "<table border=\"1\" class=\"dataframe\">\n",
       "  <thead>\n",
       "    <tr style=\"text-align: right;\">\n",
       "      <th></th>\n",
       "      <th>Income</th>\n",
       "      <th>Limit</th>\n",
       "      <th>Rating</th>\n",
       "      <th>Cards</th>\n",
       "      <th>Age</th>\n",
       "      <th>Education</th>\n",
       "      <th>Balance</th>\n",
       "    </tr>\n",
       "    <tr>\n",
       "      <th>Region</th>\n",
       "      <th></th>\n",
       "      <th></th>\n",
       "      <th></th>\n",
       "      <th></th>\n",
       "      <th></th>\n",
       "      <th></th>\n",
       "      <th></th>\n",
       "    </tr>\n",
       "  </thead>\n",
       "  <tbody>\n",
       "    <tr>\n",
       "      <th>East</th>\n",
       "      <td>47.682101</td>\n",
       "      <td>4881.595960</td>\n",
       "      <td>365.070707</td>\n",
       "      <td>2.959596</td>\n",
       "      <td>57.505051</td>\n",
       "      <td>13.525253</td>\n",
       "      <td>531.000000</td>\n",
       "    </tr>\n",
       "    <tr>\n",
       "      <th>South</th>\n",
       "      <td>44.521945</td>\n",
       "      <td>4728.462312</td>\n",
       "      <td>354.773869</td>\n",
       "      <td>2.949749</td>\n",
       "      <td>55.653266</td>\n",
       "      <td>13.331658</td>\n",
       "      <td>518.497487</td>\n",
       "    </tr>\n",
       "    <tr>\n",
       "      <th>West</th>\n",
       "      <td>44.187833</td>\n",
       "      <td>4607.823529</td>\n",
       "      <td>345.431373</td>\n",
       "      <td>2.970588</td>\n",
       "      <td>53.911765</td>\n",
       "      <td>13.607843</td>\n",
       "      <td>512.313725</td>\n",
       "    </tr>\n",
       "  </tbody>\n",
       "</table>\n",
       "</div>"
      ],
      "text/plain": [
       "           Income        Limit      Rating     Cards        Age  Education  \\\n",
       "Region                                                                       \n",
       "East    47.682101  4881.595960  365.070707  2.959596  57.505051  13.525253   \n",
       "South   44.521945  4728.462312  354.773869  2.949749  55.653266  13.331658   \n",
       "West    44.187833  4607.823529  345.431373  2.970588  53.911765  13.607843   \n",
       "\n",
       "           Balance  \n",
       "Region              \n",
       "East    531.000000  \n",
       "South   518.497487  \n",
       "West    512.313725  "
      ]
     },
     "execution_count": 12,
     "metadata": {},
     "output_type": "execute_result"
    }
   ],
   "source": [
    "df.groupby('Region').mean()"
   ]
  },
  {
   "cell_type": "code",
   "execution_count": 13,
   "metadata": {},
   "outputs": [
    {
     "data": {
      "text/html": [
       "<div>\n",
       "<style scoped>\n",
       "    .dataframe tbody tr th:only-of-type {\n",
       "        vertical-align: middle;\n",
       "    }\n",
       "\n",
       "    .dataframe tbody tr th {\n",
       "        vertical-align: top;\n",
       "    }\n",
       "\n",
       "    .dataframe thead th {\n",
       "        text-align: right;\n",
       "    }\n",
       "</style>\n",
       "<table border=\"1\" class=\"dataframe\">\n",
       "  <thead>\n",
       "    <tr style=\"text-align: right;\">\n",
       "      <th></th>\n",
       "      <th>Income</th>\n",
       "      <th>Limit</th>\n",
       "      <th>Rating</th>\n",
       "      <th>Cards</th>\n",
       "      <th>Age</th>\n",
       "      <th>Education</th>\n",
       "      <th>Balance</th>\n",
       "    </tr>\n",
       "    <tr>\n",
       "      <th>Married</th>\n",
       "      <th></th>\n",
       "      <th></th>\n",
       "      <th></th>\n",
       "      <th></th>\n",
       "      <th></th>\n",
       "      <th></th>\n",
       "      <th></th>\n",
       "    </tr>\n",
       "  </thead>\n",
       "  <tbody>\n",
       "    <tr>\n",
       "      <th>No</th>\n",
       "      <td>43.641090</td>\n",
       "      <td>4645.303226</td>\n",
       "      <td>347.800000</td>\n",
       "      <td>2.974194</td>\n",
       "      <td>57.251613</td>\n",
       "      <td>13.258065</td>\n",
       "      <td>523.290323</td>\n",
       "    </tr>\n",
       "    <tr>\n",
       "      <th>Yes</th>\n",
       "      <td>46.217082</td>\n",
       "      <td>4792.726531</td>\n",
       "      <td>359.457143</td>\n",
       "      <td>2.946939</td>\n",
       "      <td>54.665306</td>\n",
       "      <td>13.571429</td>\n",
       "      <td>517.942857</td>\n",
       "    </tr>\n",
       "  </tbody>\n",
       "</table>\n",
       "</div>"
      ],
      "text/plain": [
       "            Income        Limit      Rating     Cards        Age  Education  \\\n",
       "Married                                                                       \n",
       "No       43.641090  4645.303226  347.800000  2.974194  57.251613  13.258065   \n",
       "Yes      46.217082  4792.726531  359.457143  2.946939  54.665306  13.571429   \n",
       "\n",
       "            Balance  \n",
       "Married              \n",
       "No       523.290323  \n",
       "Yes      517.942857  "
      ]
     },
     "execution_count": 13,
     "metadata": {},
     "output_type": "execute_result"
    }
   ],
   "source": [
    "df.groupby('Married').mean()"
   ]
  },
  {
   "cell_type": "markdown",
   "metadata": {},
   "source": [
    "If we want to apply the **groupby()** operator to a specific variable the sintax slightly change. "
   ]
  },
  {
   "cell_type": "code",
   "execution_count": 16,
   "metadata": {},
   "outputs": [
    {
     "data": {
      "text/html": [
       "<div>\n",
       "<style scoped>\n",
       "    .dataframe tbody tr th:only-of-type {\n",
       "        vertical-align: middle;\n",
       "    }\n",
       "\n",
       "    .dataframe tbody tr th {\n",
       "        vertical-align: top;\n",
       "    }\n",
       "\n",
       "    .dataframe thead th {\n",
       "        text-align: right;\n",
       "    }\n",
       "</style>\n",
       "<table border=\"1\" class=\"dataframe\">\n",
       "  <thead>\n",
       "    <tr style=\"text-align: right;\">\n",
       "      <th></th>\n",
       "      <th>Income</th>\n",
       "    </tr>\n",
       "    <tr>\n",
       "      <th>Married</th>\n",
       "      <th></th>\n",
       "    </tr>\n",
       "  </thead>\n",
       "  <tbody>\n",
       "    <tr>\n",
       "      <th>No</th>\n",
       "      <td>43.641090</td>\n",
       "    </tr>\n",
       "    <tr>\n",
       "      <th>Yes</th>\n",
       "      <td>46.217082</td>\n",
       "    </tr>\n",
       "  </tbody>\n",
       "</table>\n",
       "</div>"
      ],
      "text/plain": [
       "            Income\n",
       "Married           \n",
       "No       43.641090\n",
       "Yes      46.217082"
      ]
     },
     "execution_count": 16,
     "metadata": {},
     "output_type": "execute_result"
    }
   ],
   "source": [
    "# use [[]] and selecct the relevant columns\n",
    "df[['Married','Income']].groupby('Married').mean()"
   ]
  },
  {
   "cell_type": "markdown",
   "metadata": {},
   "source": [
    "If we want to apply the **groupby()** operator to multiple variables we just need to expand the list in the squared brackets. "
   ]
  },
  {
   "cell_type": "code",
   "execution_count": 15,
   "metadata": {},
   "outputs": [
    {
     "data": {
      "text/html": [
       "<div>\n",
       "<style scoped>\n",
       "    .dataframe tbody tr th:only-of-type {\n",
       "        vertical-align: middle;\n",
       "    }\n",
       "\n",
       "    .dataframe tbody tr th {\n",
       "        vertical-align: top;\n",
       "    }\n",
       "\n",
       "    .dataframe thead th {\n",
       "        text-align: right;\n",
       "    }\n",
       "</style>\n",
       "<table border=\"1\" class=\"dataframe\">\n",
       "  <thead>\n",
       "    <tr style=\"text-align: right;\">\n",
       "      <th></th>\n",
       "      <th>Income</th>\n",
       "      <th>Rating</th>\n",
       "    </tr>\n",
       "    <tr>\n",
       "      <th>Married</th>\n",
       "      <th></th>\n",
       "      <th></th>\n",
       "    </tr>\n",
       "  </thead>\n",
       "  <tbody>\n",
       "    <tr>\n",
       "      <th>No</th>\n",
       "      <td>43.641090</td>\n",
       "      <td>347.800000</td>\n",
       "    </tr>\n",
       "    <tr>\n",
       "      <th>Yes</th>\n",
       "      <td>46.217082</td>\n",
       "      <td>359.457143</td>\n",
       "    </tr>\n",
       "  </tbody>\n",
       "</table>\n",
       "</div>"
      ],
      "text/plain": [
       "            Income      Rating\n",
       "Married                       \n",
       "No       43.641090  347.800000\n",
       "Yes      46.217082  359.457143"
      ]
     },
     "execution_count": 15,
     "metadata": {},
     "output_type": "execute_result"
    }
   ],
   "source": [
    "df[['Married','Income','Rating']].groupby('Married').mean()"
   ]
  },
  {
   "cell_type": "markdown",
   "metadata": {},
   "source": [
    "## Plotting variables with ***pandas***\n",
    "\n",
    "In this section we are going to introduce some of the plotting operators which are built in ***pandas***"
   ]
  },
  {
   "cell_type": "markdown",
   "metadata": {},
   "source": [
    "Suppose I want to plot the distribution of multiple variables to have an idea of the median values and dispersion. I can simply use a *boxplot*. "
   ]
  },
  {
   "cell_type": "code",
   "execution_count": 18,
   "metadata": {},
   "outputs": [
    {
     "data": {
      "text/plain": [
       "<AxesSubplot:>"
      ]
     },
     "execution_count": 18,
     "metadata": {},
     "output_type": "execute_result"
    },
    {
     "data": {
      "image/png": "[encoded data removed]",
      "text/plain": [
       "<Figure size 432x288 with 1 Axes>"
      ]
     },
     "metadata": {
      "needs_background": "light"
     },
     "output_type": "display_data"
    }
   ],
   "source": [
    "# .plot.box() to get a boxplot for every column selected\n",
    "df[['Income','Rating','Balance']].plot.box()"
   ]
  },
  {
   "cell_type": "markdown",
   "metadata": {},
   "source": [
    "Suppose now I want to look at the correlation between two variables in my dataset. I can use a simple *scatterplot* to do so. "
   ]
  },
  {
   "cell_type": "code",
   "execution_count": 25,
   "metadata": {},
   "outputs": [
    {
     "data": {
      "text/plain": [
       "<AxesSubplot:xlabel='Income', ylabel='Rating'>"
      ]
     },
     "execution_count": 25,
     "metadata": {},
     "output_type": "execute_result"
    },
    {
     "data": {
      "image/png": "[encoded data removed]",
      "text/plain": [
       "<Figure size 432x288 with 1 Axes>"
      ]
     },
     "metadata": {
      "needs_background": "light"
     },
     "output_type": "display_data"
    }
   ],
   "source": [
    "# .plot.scatter(), and specify x and y within the braket\n",
    "df.plot.scatter(x=\"Income\", y=\"Rating\", alpha=0.5) #alpha determine the transparency of the plot"
   ]
  },
  {
   "cell_type": "markdown",
   "metadata": {},
   "source": [
    "There is an evident positive correlation between **income** and credit **rating** of individuals. "
   ]
  },
  {
   "cell_type": "markdown",
   "metadata": {},
   "source": [
    "Suppose I want to plot the histograms of three variables but I want to have them separated in three different subplots. I can use the **hist** command and specify the dimension of the figure via the option **figsize** and the **subplots=True** assumption. "
   ]
  },
  {
   "cell_type": "code",
   "execution_count": 35,
   "metadata": {},
   "outputs": [
    {
     "data": {
      "text/plain": [
       "array([<AxesSubplot:ylabel='Frequency'>, <AxesSubplot:ylabel='Frequency'>,\n",
       "       <AxesSubplot:ylabel='Frequency'>], dtype=object)"
      ]
     },
     "execution_count": 35,
     "metadata": {},
     "output_type": "execute_result"
    },
    {
     "data": {
      "image/png": "[encoded data removed]",
      "text/plain": [
       "<Figure size 432x432 with 3 Axes>"
      ]
     },
     "metadata": {
      "needs_background": "light"
     },
     "output_type": "display_data"
    }
   ],
   "source": [
    "df[['Income','Rating','Balance']].plot.hist(figsize=(6, 6), subplots=True)\n",
    "# figsize=(length, width)"
   ]
  },
  {
   "cell_type": "markdown",
   "metadata": {},
   "source": [
    "Finally, we can also look at the correlations and distributions of multiple variables in a very convenient form via the **scatter_matrix** function. "
   ]
  },
  {
   "cell_type": "code",
   "execution_count": 39,
   "metadata": {},
   "outputs": [
    {
     "data": {
      "image/png": "[encoded data removed]",
      "text/plain": [
       "<Figure size 432x432 with 16 Axes>"
      ]
     },
     "metadata": {
      "needs_background": "light"
     },
     "output_type": "display_data"
    }
   ],
   "source": [
    "pd.plotting.scatter_matrix(df[['Income','Rating','Balance','Age']], alpha=0.2, figsize=(6, 6), diagonal=\"kde\");\n",
    "# more options like alpha, figsize, and diagonal\n",
    "# 'kde' = kernel density estimation\n",
    "# can also use diagonal='hist'"
   ]
  },
  {
   "cell_type": "markdown",
   "metadata": {},
   "source": [
    "This gives a much clearer Idea of the possible correlation and distributions of some of the variables of interest. "
   ]
  }
 ],
 "metadata": {
  "kernelspec": {
   "display_name": "Python 3",
   "language": "python",
   "name": "python3"
  },
  "language_info": {
   "codemirror_mode": {
    "name": "ipython",
    "version": 3
   },
   "file_extension": ".py",
   "mimetype": "text/x-python",
   "name": "python",
   "nbconvert_exporter": "python",
   "pygments_lexer": "ipython3",
   "version": "3.8.8"
  }
 },
 "nbformat": 4,
 "nbformat_minor": 4
}
