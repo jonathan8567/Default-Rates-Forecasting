{
 "cells": [
  {
   "cell_type": "markdown",
   "metadata": {},
   "source": [
    "## Agenda\n",
    "\n",
    "- Implement a **kmeans** algorithm\n",
    "- Decide how many **clusters** we should consider in kmeans\n",
    "\n",
    "As main data we are going to use the returns of 2,000 hedge fund managers over 50 months. The data are from James et al. \"An Introduction to Statistical Learning: 2nd ed.\" (2021). "
   ]
  },
  {
   "cell_type": "code",
   "execution_count": 1,
   "metadata": {},
   "outputs": [],
   "source": [
    "#Import pandas to deal with the dataset\n",
    "import pandas as pd\n",
    "\n",
    "#Import the data on hedge fund performance\n",
    "df = pd.read_csv(r'Fund.csv', index_col = 0)"
   ]
  },
  {
   "cell_type": "markdown",
   "metadata": {},
   "source": [
    "Before moving to the actual implementation we can check if the dataset contains any missing value, as this will ultimately affect the clustering algorithm. "
   ]
  },
  {
   "cell_type": "code",
   "execution_count": 2,
   "metadata": {},
   "outputs": [
    {
     "data": {
      "text/plain": [
       "Manager1       0\n",
       "Manager2       0\n",
       "Manager3       0\n",
       "Manager4       0\n",
       "Manager5       0\n",
       "              ..\n",
       "Manager1996    0\n",
       "Manager1997    0\n",
       "Manager1998    0\n",
       "Manager1999    0\n",
       "Manager2000    0\n",
       "Length: 2000, dtype: int64"
      ]
     },
     "execution_count": 2,
     "metadata": {},
     "output_type": "execute_result"
    }
   ],
   "source": [
    "df.isnull().sum()"
   ]
  },
  {
   "cell_type": "markdown",
   "metadata": {},
   "source": [
    "There is no missing data in this dataset, so now we can proceed with pre-processing the data. As usual, we need to rescale the data first, so that each record of fund performance has mean equal to 0 and variance equal to 1"
   ]
  },
  {
   "cell_type": "code",
   "execution_count": 3,
   "metadata": {},
   "outputs": [],
   "source": [
    "#Standardise the fund returns so that they are all\n",
    "#on the same scale\n",
    "from sklearn.preprocessing import StandardScaler\n",
    "\n",
    "# Calculate the average fund performance over the sample period \n",
    "avg_perf = df.mean(axis = 0)\n",
    "\n",
    "# create a dataframe with avg return of every fund\n",
    "X = pd.DataFrame(avg_perf, index = df.columns)\n",
    "\n",
    "# Implement the rescaling to the avg return\n",
    "X = StandardScaler().fit_transform(X)"
   ]
  },
  {
   "cell_type": "markdown",
   "metadata": {},
   "source": [
    "### K-means clustering\n",
    "\n",
    "We can then now estimate the clusters using the k-means algorithm. The **k-means** function takes as an input the number of clusters. To make the computation process more efficient, we can simply estimate the clusters through a **for** loop in which we \"loop over\" all different options in terms of number of clusters. Clusters are calculated by looking at the average fund performance. "
   ]
  },
  {
   "cell_type": "code",
   "execution_count": 4,
   "metadata": {},
   "outputs": [],
   "source": [
    "# Find the appropriate cluster number\n",
    "from sklearn.cluster import KMeans\n",
    "\n",
    "# initialise an empty list\n",
    "wcss = []\n",
    "\n",
    "# run the kmeans for 20 clusters\n",
    "# n_clusters: the num of clusters to try\n",
    "# init: how to initialise the search, e.g. which data to use.\n",
    "# when using k-means++ we try a smart approach provided\n",
    "# max_iter: num of iterations to find the solution\n",
    "# n_init: num of time the k-means algorithm will be run with different centroid seeds\n",
    "# random_stateL determines random num generation for centroid initialization\n",
    "# inertia: sum of squared distances of samples to their closest cluster center, weighted by the sample weights if provided\n",
    "for i in range(1, 20):\n",
    "    kmeans = KMeans(n_clusters = i, init = 'k-means++', max_iter = 300, n_init = 10, random_state = 42)\n",
    "    kmeans.fit(X)\n",
    "    wcss.append([i,kmeans.inertia_])\n",
    "\n",
    "elbow = pd.DataFrame(wcss, columns =['k','wcss']).set_index('k')"
   ]
  },
  {
   "cell_type": "markdown",
   "metadata": {},
   "source": [
    "Above we simply calculated the clusters assuming $k=1,...,20$. We can now plot a so-called \"elbow\" plot in which we report the within-cluster variation vs the number of clusters. "
   ]
  },
  {
   "cell_type": "code",
   "execution_count": 5,
   "metadata": {},
   "outputs": [
    {
     "data": {
      "text/plain": [
       "<AxesSubplot:xlabel='k', ylabel='wcss'>"
      ]
     },
     "execution_count": 5,
     "metadata": {},
     "output_type": "execute_result"
    },
    {
     "data": {
      "image/png": "[encoded data removed]",
      "text/plain": [
       "<Figure size 432x288 with 1 Axes>"
      ]
     },
     "metadata": {},
     "output_type": "display_data"
    }
   ],
   "source": [
    "import seaborn as sns\n",
    "sns.set_theme(style=\"darkgrid\")\n",
    "\n",
    "# Plot the within-cluster variation as a function of the clusters\n",
    "sns.lineplot(x=\"k\", y=\"wcss\", data=elbow)"
   ]
  },
  {
   "cell_type": "markdown",
   "metadata": {},
   "source": [
    "It seems from the Elbow plot that the marginal increase from an additional cluster drops around the $k=5$ specification. We can create a dataframe with a smaller number of clusters, say for e.g., $k=3$ and check for clusters composition if we notice any insight. "
   ]
  },
  {
   "cell_type": "code",
   "execution_count": 6,
   "metadata": {},
   "outputs": [],
   "source": [
    "# Fitting K-Means to the dataset\n",
    "kmeans    = KMeans(n_clusters = 5, init = 'k-means++', random_state = 42)\n",
    "y_kmeans  = kmeans.fit_predict(X)\n",
    "\n",
    "# Beginning of the cluster numbering with 1 instead of 0\n",
    "y_kmeans  = y_kmeans + 1\n",
    "\n",
    "# New Dataframe called cluster\n",
    "cluster   = pd.DataFrame(y_kmeans, columns = ['cluster'])\n",
    "cluster['performance'] = X"
   ]
  },
  {
   "cell_type": "markdown",
   "metadata": {},
   "source": [
    "To have a sense of the meaning of the clusters we can look at the average performance per cluster. This often falls under the heading of \"ex-post\" heuristic interpretation. "
   ]
  },
  {
   "cell_type": "code",
   "execution_count": 7,
   "metadata": {},
   "outputs": [
    {
     "name": "stdout",
     "output_type": "stream",
     "text": [
      "         performance\n",
      "cluster             \n",
      "4              -2.19\n",
      "1              -0.82\n",
      "2               0.01\n",
      "3               0.85\n",
      "5               2.20\n"
     ]
    }
   ],
   "source": [
    "kmeans_mean_cluster = pd.DataFrame(round(cluster.groupby('cluster').mean(),2)).sort_values(by='performance',axis=0)\n",
    "print(kmeans_mean_cluster)"
   ]
  },
  {
   "cell_type": "markdown",
   "metadata": {},
   "source": [
    "It seems that cluster 4 and 5 represents the worst and top performing funds, on average. One can try to see what happens by increasing the number of clusters, by setting **n\\_clusters** greater than 5. "
   ]
  }
 ],
 "metadata": {
  "kernelspec": {
   "display_name": "Python 3",
   "language": "python",
   "name": "python3"
  },
  "language_info": {
   "codemirror_mode": {
    "name": "ipython",
    "version": 3
   },
   "file_extension": ".py",
   "mimetype": "text/x-python",
   "name": "python",
   "nbconvert_exporter": "python",
   "pygments_lexer": "ipython3",
   "version": "3.8.8"
  }
 },
 "nbformat": 4,
 "nbformat_minor": 4
}
