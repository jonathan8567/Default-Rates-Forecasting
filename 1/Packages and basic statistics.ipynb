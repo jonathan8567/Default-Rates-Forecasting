{
 "cells": [
  {
   "cell_type": "markdown",
   "metadata": {
    "id": "_D1yh9-1_aj2"
   },
   "source": [
    "Exercise 1:\n",
    "\n",
    "Let's look how we can work with packages. "
   ]
  },
  {
   "cell_type": "code",
   "execution_count": 25,
   "metadata": {
    "id": "Pe-i4tYO_ib0"
   },
   "outputs": [],
   "source": [
    "# Consider the vector of int rates defined before. \n",
    "irates_usd = [0.02, 0.02, 0.04, 0.09, 0.12]\n",
    "irates_eur = [0.01, 0.03, 0.052, 0.073, 0.09]"
   ]
  },
  {
   "cell_type": "markdown",
   "metadata": {
    "id": "cQi_6Gc3_zlD"
   },
   "source": [
    "Import the numpy as a package"
   ]
  },
  {
   "cell_type": "code",
   "execution_count": 26,
   "metadata": {
    "id": "ef7miuV6_1cx"
   },
   "outputs": [],
   "source": [
    "import numpy as np"
   ]
  },
  {
   "cell_type": "markdown",
   "metadata": {
    "id": "ktvWXlyW_3YV"
   },
   "source": [
    "Create an array from the interest rates of both USD and EUR and call it nrates_*"
   ]
  },
  {
   "cell_type": "code",
   "execution_count": 27,
   "metadata": {
    "id": "PFp_DiLiAE7H"
   },
   "outputs": [
    {
     "name": "stdout",
     "output_type": "stream",
     "text": [
      "[0.02 0.02 0.04 0.09 0.12]\n",
      "[0.01  0.03  0.052 0.073 0.09 ]\n"
     ]
    }
   ],
   "source": [
    "nrates_usd = np.array(irates_usd)\n",
    "print(nrates_usd)\n",
    "\n",
    "nrates_eur = np.array(irates_eur)\n",
    "print(nrates_eur)\n"
   ]
  },
  {
   "cell_type": "markdown",
   "metadata": {
    "id": "cbds_IjSAR4S"
   },
   "source": [
    "Convert the values from decimals to percentages"
   ]
  },
  {
   "cell_type": "code",
   "execution_count": 39,
   "metadata": {
    "id": "qj65lpKEAU-P"
   },
   "outputs": [
    {
     "name": "stdout",
     "output_type": "stream",
     "text": [
      "[ 2.  2.  4.  9. 12.]\n",
      "[1.  3.  5.2 7.3 9. ]\n"
     ]
    }
   ],
   "source": [
    "nrates_usd = nrates_usd * 100\n",
    "print(nrates_usd)\n",
    "\n",
    "nrates_eur = nrates_eur * 100\n",
    "print(nrates_eur)"
   ]
  },
  {
   "cell_type": "markdown",
   "metadata": {
    "id": "EDTE8lQrAXEL"
   },
   "source": [
    "Calculate the spread of the rates for each maturity. "
   ]
  },
  {
   "cell_type": "code",
   "execution_count": 9,
   "metadata": {
    "id": "kK6dl5oHApAa"
   },
   "outputs": [
    {
     "name": "stdout",
     "output_type": "stream",
     "text": [
      "[ 1.  -1.  -1.2  1.7  3. ]\n"
     ]
    }
   ],
   "source": [
    "spread = nrates_usd-nrates_eur\n",
    "print(spread)"
   ]
  },
  {
   "cell_type": "markdown",
   "metadata": {
    "id": "gR6OhFgIA0Zt"
   },
   "source": [
    "Print out the spreads which are positive"
   ]
  },
  {
   "cell_type": "code",
   "execution_count": 20,
   "metadata": {
    "id": "YRq1jUWcBA5f"
   },
   "outputs": [
    {
     "name": "stdout",
     "output_type": "stream",
     "text": [
      "[1.  1.7 3. ]\n"
     ]
    }
   ],
   "source": [
    "print(spread[spread>0])"
   ]
  },
  {
   "cell_type": "markdown",
   "metadata": {
    "id": "URxu7iRcBtrI"
   },
   "source": [
    "Create the matrix of rates as a list of lists\n"
   ]
  },
  {
   "cell_type": "code",
   "execution_count": 40,
   "metadata": {
    "id": "YoqTTt_HBweD"
   },
   "outputs": [
    {
     "name": "stdout",
     "output_type": "stream",
     "text": [
      "[array([ 2.,  2.,  4.,  9., 12.]), array([1. , 3. , 5.2, 7.3, 9. ])]\n"
     ]
    }
   ],
   "source": [
    "rates = [nrates_usd,nrates_eur]\n",
    "print(rates)"
   ]
  },
  {
   "cell_type": "markdown",
   "metadata": {
    "id": "-mpUc-NiB2lL"
   },
   "source": [
    "Create a 2D array from the list of lists of rates and print out its shape"
   ]
  },
  {
   "cell_type": "code",
   "execution_count": 42,
   "metadata": {
    "id": "niDc7GG5B6FK"
   },
   "outputs": [
    {
     "name": "stdout",
     "output_type": "stream",
     "text": [
      "(2, 5)\n"
     ]
    }
   ],
   "source": [
    "np_rates = np.array(rates)\n",
    "print(np.shape(np_rates))"
   ]
  },
  {
   "cell_type": "markdown",
   "metadata": {
    "id": "gwgnLtN0CEZX"
   },
   "source": [
    "Exercise 2: \n",
    "\n",
    "Let try to use some basic statistics. "
   ]
  },
  {
   "cell_type": "markdown",
   "metadata": {
    "id": "bluzGB1vCJlb"
   },
   "source": [
    "Print the mean of the EUR and the USD rates"
   ]
  },
  {
   "cell_type": "code",
   "execution_count": 43,
   "metadata": {
    "id": "W8YVhsmbCMet"
   },
   "outputs": [
    {
     "name": "stdout",
     "output_type": "stream",
     "text": [
      "Average: 5.8\n",
      "Average: 5.1\n"
     ]
    }
   ],
   "source": [
    "avg_usd = np.mean(np_rates[0,:])\n",
    "print('Average: ' + str(avg_usd))\n",
    "\n",
    "avg_eur = np.mean(np_rates[1,:])\n",
    "print('Average: ' + str(avg_eur))\n"
   ]
  },
  {
   "cell_type": "markdown",
   "metadata": {
    "id": "vHhNooEZCWov"
   },
   "source": [
    "Print the median of the EUR and the USD rates"
   ]
  },
  {
   "cell_type": "code",
   "execution_count": 44,
   "metadata": {
    "id": "BQagLzbtCtjz"
   },
   "outputs": [
    {
     "name": "stdout",
     "output_type": "stream",
     "text": [
      "Median: 4.0\n",
      "Median: 5.2\n"
     ]
    }
   ],
   "source": [
    "median_usd = np.median(np_rates[0,:])\n",
    "print('Median: ' + str(median_usd))\n",
    "\n",
    "median_eur = np.median(np_rates[1,:])\n",
    "print('Median: ' + str(median_eur))"
   ]
  },
  {
   "cell_type": "markdown",
   "metadata": {
    "id": "Us-OksIuC5Iu"
   },
   "source": [
    "Print the standard deviation of both EUR and USD rates"
   ]
  },
  {
   "cell_type": "code",
   "execution_count": 46,
   "metadata": {
    "id": "ZWN344NgC9GY"
   },
   "outputs": [
    {
     "name": "stdout",
     "output_type": "stream",
     "text": [
      "Std : 4.019950248448357\n",
      "Std : 2.8733255993708755\n"
     ]
    }
   ],
   "source": [
    "std_usd = np.std(np_rates[0,:])\n",
    "print('Std : ' + str(std_usd))\n",
    "\n",
    "std_eur = np.std(np_rates[1,:])\n",
    "print('Std : ' + str(std_eur))"
   ]
  },
  {
   "cell_type": "markdown",
   "metadata": {
    "id": "CBPg5HGPDI_W"
   },
   "source": [
    "Print the correlation between the EUR and the USD rates"
   ]
  },
  {
   "cell_type": "code",
   "execution_count": 48,
   "metadata": {
    "id": "DdsP6Mo8DMWA"
   },
   "outputs": [
    {
     "name": "stdout",
     "output_type": "stream",
     "text": [
      "correlation[[1.         0.94540331]\n",
      " [0.94540331 1.        ]]\n"
     ]
    }
   ],
   "source": [
    "corr = np.corrcoef(np_rates[0,:], np_rates[1,:])\n",
    "print('correlation' + str(corr))"
   ]
  }
 ],
 "metadata": {
  "colab": {
   "authorship_tag": "ABX9TyO9kdcDbFym9tVPJR+2Iqid",
   "collapsed_sections": [],
   "name": "Packages and basic statistics.ipynb",
   "provenance": []
  },
  "kernelspec": {
   "display_name": "Python 3",
   "language": "python",
   "name": "python3"
  },
  "language_info": {
   "codemirror_mode": {
    "name": "ipython",
    "version": 3
   },
   "file_extension": ".py",
   "mimetype": "text/x-python",
   "name": "python",
   "nbconvert_exporter": "python",
   "pygments_lexer": "ipython3",
   "version": "3.8.8"
  }
 },
 "nbformat": 4,
 "nbformat_minor": 4
}
