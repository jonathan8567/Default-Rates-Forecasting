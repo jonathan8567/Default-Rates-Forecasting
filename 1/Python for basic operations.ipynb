{
 "cells": [
  {
   "cell_type": "markdown",
   "metadata": {
    "id": "WYgyKmlW1sHn"
   },
   "source": [
    "Exercise 1:\n",
    "\n",
    "Assume we deposit €100 in an account which pays 10% annually. \n",
    "\n",
    "What would be the value of the deposit after seven year?"
   ]
  },
  {
   "cell_type": "code",
   "execution_count": 2,
   "metadata": {
    "id": "3gkmH-KU2IcH"
   },
   "outputs": [
    {
     "name": "stdout",
     "output_type": "stream",
     "text": [
      "194.87171000000012\n"
     ]
    }
   ],
   "source": [
    "investment = 100\n",
    "interest_rate = 0.1\n",
    "maturity = 7\n",
    "deposit_mat = investment * (1 + interest_rate) ** maturity \n",
    "\n",
    "print(deposit_mat)"
   ]
  },
  {
   "cell_type": "markdown",
   "metadata": {
    "id": "E-2yod7o2Z-G"
   },
   "source": [
    "Exercise 2:\n",
    "\n",
    "Assign the value of the deposite after 7 year calculated above to the variable \"final_deposit\". \n",
    "\n",
    "Check if the following code is correct, if not, fix it:"
   ]
  },
  {
   "cell_type": "code",
   "execution_count": 3,
   "metadata": {
    "id": "vBGqE8qi23QH"
   },
   "outputs": [
    {
     "name": "stdout",
     "output_type": "stream",
     "text": [
      "I started with a 100 and now I have a final deposit of a 194.87\n"
     ]
    }
   ],
   "source": [
    "savings = 100\n",
    "final_deposit = deposit_mat\n",
    "print('I started with a ' + str(savings) + ' and now I have a final deposit of a ' + str(round(final_deposit,2)))"
   ]
  },
  {
   "cell_type": "markdown",
   "metadata": {
    "id": "7XpIvhWx3K_-"
   },
   "source": [
    "Exercise 3:\n",
    "\n",
    "Create a list of exchange rates:\n",
    "\n",
    "eur_gbp = 0.86\n",
    "eur_usd = 1.22\n",
    "eur_chf = 1.10\n",
    "eur_sek = 10.10\n",
    "eur_jpy = 133.80"
   ]
  },
  {
   "cell_type": "code",
   "execution_count": 5,
   "metadata": {
    "id": "v9LTh8nG3sOn"
   },
   "outputs": [],
   "source": [
    "eur_gbp = 0.86\n",
    "eur_chf = 1.10\n",
    "eur_sek = 10.10\n",
    "eur_jpy = 133.80\n",
    "eur_usd = 1.22\n",
    "\n",
    "rates = [eur_gbp, eur_chf, eur_sek, eur_jpy, eur_usd]"
   ]
  },
  {
   "cell_type": "markdown",
   "metadata": {
    "id": "2UsoYW4930Tm"
   },
   "source": [
    "Print the list of the exchange rates"
   ]
  },
  {
   "cell_type": "code",
   "execution_count": 6,
   "metadata": {
    "id": "7HutjEki3_QR"
   },
   "outputs": [
    {
     "name": "stdout",
     "output_type": "stream",
     "text": [
      "[0.86, 1.1, 10.1, 133.8, 1.22]\n"
     ]
    }
   ],
   "source": [
    "print(rates)"
   ]
  },
  {
   "cell_type": "markdown",
   "metadata": {
    "id": "R8nAt2p24AQO"
   },
   "source": [
    "Adapt the list of the rates adding a description of each country. Keep the same order as above."
   ]
  },
  {
   "cell_type": "code",
   "execution_count": 24,
   "metadata": {
    "id": "dVH4TCmH4FbE"
   },
   "outputs": [],
   "source": [
    "rates =['EURGBP', eur_gbp, 'EURCHF', eur_chf, 'EURSEK', eur_sek, 'EURJPY', eur_jpy, 'EURUSD', eur_usd]"
   ]
  },
  {
   "cell_type": "markdown",
   "metadata": {
    "id": "XSsS39Ua4PRy"
   },
   "source": [
    "Print the new list of exchange rates"
   ]
  },
  {
   "cell_type": "code",
   "execution_count": 8,
   "metadata": {
    "id": "Exfj-cZ64R5H"
   },
   "outputs": [
    {
     "name": "stdout",
     "output_type": "stream",
     "text": [
      "['EURGBP', 0.86, 'EURCHF', 1.1, 'EURSEK', 10.1, 'EURJPY', 133.8, 'EURUSD', 1.22]\n"
     ]
    }
   ],
   "source": [
    "print(rates)"
   ]
  },
  {
   "cell_type": "markdown",
   "metadata": {
    "id": "4_T5rQYL4TFw"
   },
   "source": [
    "Create the information on all exchange rates as a list of lists"
   ]
  },
  {
   "cell_type": "code",
   "execution_count": 11,
   "metadata": {
    "id": "CegIQotd4cnY"
   },
   "outputs": [],
   "source": [
    "fxmarket = [[\"EURGBP\", eur_gbp],\n",
    "            [\"EURCHF\", eur_chf],\n",
    "            [\"EURSEK\", eur_sek],\n",
    "            [\"EURJPY\", eur_jpy],\n",
    "            [\"EURUSD\", eur_usd]]"
   ]
  },
  {
   "cell_type": "markdown",
   "metadata": {
    "id": "iL9XSuga4snP"
   },
   "source": [
    "Print out the information on the FX rates you just created"
   ]
  },
  {
   "cell_type": "code",
   "execution_count": 12,
   "metadata": {
    "id": "BC6JZMPE40DA"
   },
   "outputs": [
    {
     "name": "stdout",
     "output_type": "stream",
     "text": [
      "[['EURGBP', 0.86], ['EURCHF', 1.1], ['EURSEK', 10.1], ['EURJPY', 133.8], ['EURUSD', 1.22]]\n"
     ]
    }
   ],
   "source": [
    "print(fxmarket)"
   ]
  },
  {
   "cell_type": "markdown",
   "metadata": {
    "id": "yGkrPc7P44bY"
   },
   "source": [
    "Exercise 4: \n",
    "\n",
    "We should now learn how to slice and select data within a list\n",
    "\n",
    "Take the list of rates you created before. \n",
    "\n",
    "Print out the first element"
   ]
  },
  {
   "cell_type": "code",
   "execution_count": 16,
   "metadata": {
    "id": "a668APTf5KsK"
   },
   "outputs": [
    {
     "name": "stdout",
     "output_type": "stream",
     "text": [
      "EURGBP\n"
     ]
    }
   ],
   "source": [
    "print(rates[0])"
   ]
  },
  {
   "cell_type": "markdown",
   "metadata": {
    "id": "Cbmax1Pq5Mc1"
   },
   "source": [
    "Print out the last element"
   ]
  },
  {
   "cell_type": "code",
   "execution_count": 17,
   "metadata": {
    "id": "j580cAEV5Nz1"
   },
   "outputs": [
    {
     "name": "stdout",
     "output_type": "stream",
     "text": [
      "1.22\n"
     ]
    }
   ],
   "source": [
    "print(rates[-1])"
   ]
  },
  {
   "cell_type": "markdown",
   "metadata": {
    "id": "bviYkZ0P5OjI"
   },
   "source": [
    "Print out the exchange rate EUR vs CHF"
   ]
  },
  {
   "cell_type": "code",
   "execution_count": 18,
   "metadata": {
    "id": "c8u4owrF5Y1-"
   },
   "outputs": [
    {
     "name": "stdout",
     "output_type": "stream",
     "text": [
      "1.1\n"
     ]
    }
   ],
   "source": [
    "print(rates[3])"
   ]
  },
  {
   "cell_type": "markdown",
   "metadata": {
    "id": "LCiJdIcD5ZoZ"
   },
   "source": [
    "Assuming the GBPCAD = 1.71\n",
    "\n",
    "Calculate the exchange rate EURCAD"
   ]
  },
  {
   "cell_type": "code",
   "execution_count": 21,
   "metadata": {
    "id": "_ug34P4d6Bwm"
   },
   "outputs": [
    {
     "name": "stdout",
     "output_type": "stream",
     "text": [
      "1.4706\n"
     ]
    }
   ],
   "source": [
    "gbp_cad = 1.71\n",
    "gbp_eur = 1/eur_gbp\n",
    "eur_cad =  gbp_cad/gbp_eur\n",
    "print(eur_cad)"
   ]
  },
  {
   "cell_type": "markdown",
   "metadata": {
    "id": "ZZFTrHTp6h4h"
   },
   "source": [
    "Append the value of the eur_cad at the end of the list \"rates\""
   ]
  },
  {
   "cell_type": "code",
   "execution_count": 25,
   "metadata": {
    "id": "qyZpltNt6v6F"
   },
   "outputs": [
    {
     "name": "stdout",
     "output_type": "stream",
     "text": [
      "['EURGBP', 0.86, 'EURCHF', 1.1, 'EURSEK', 10.1, 'EURJPY', 133.8, 'EURUSD', 1.22, 'EURCAD', 1.4706]\n"
     ]
    }
   ],
   "source": [
    "rates = rates + ['EURCAD', 1.4706]\n",
    "print(rates)"
   ]
  },
  {
   "cell_type": "markdown",
   "metadata": {
    "id": "bflMA_nn64Rs"
   },
   "source": [
    "Use slicing to separate the countries extra EU vs those in the EU. \n"
   ]
  },
  {
   "cell_type": "code",
   "execution_count": 28,
   "metadata": {
    "id": "bOMxWuUp68sU"
   },
   "outputs": [
    {
     "name": "stdout",
     "output_type": "stream",
     "text": [
      "['EURJPY', 133.8, 'EURUSD', 1.22, 'EURCAD', 1.4706]\n",
      "['EURGBP', 0.86, 'EURCHF', 1.1, 'EURSEK', 10.1]\n"
     ]
    }
   ],
   "source": [
    "extra_eu = rates[6:]\n",
    "eu       = rates[:6]\n",
    "print(extra_eu)\n",
    "print(eu)"
   ]
  },
  {
   "cell_type": "markdown",
   "metadata": {
    "id": "08JV-xBn7CDe"
   },
   "source": [
    "Exercise 5:\n",
    "\n",
    "Let's learn how to maniulate lists now. \n",
    "\n",
    "Create the list of rates as above."
   ]
  },
  {
   "cell_type": "code",
   "execution_count": 29,
   "metadata": {
    "id": "AKWQCKpS7h_E"
   },
   "outputs": [],
   "source": [
    "eur_gbp = 0.86\n",
    "eur_chf = 1.10\n",
    "eur_sek = 10.10\n",
    "eur_jpy = 133.80\n",
    "eur_usd = 1.22\n",
    "\n",
    "rates = ['EURGBP', eur_gbp,\n",
    "         'EURCHF',eur_chf,'EURSEK', eur_sek, \n",
    "         'EURJPY',eur_jpy,'EURUSD', eur_usd, 'EURCAD', eur_cad]"
   ]
  },
  {
   "cell_type": "markdown",
   "metadata": {
    "id": "QkMf8jFm77OJ"
   },
   "source": [
    "Correct the exchange rate EURGBP by reducing the value by 0.1"
   ]
  },
  {
   "cell_type": "code",
   "execution_count": 30,
   "metadata": {
    "id": "Bgh2_2qz8EiC"
   },
   "outputs": [],
   "source": [
    "rates[1] = rates[1] - 0.1"
   ]
  },
  {
   "cell_type": "markdown",
   "metadata": {
    "id": "7Z1F9IZy8KeH"
   },
   "source": [
    "Replace the EURJPY with the EURAUD with eur_aud = 1.58."
   ]
  },
  {
   "cell_type": "code",
   "execution_count": 32,
   "metadata": {
    "id": "Wlxlp-dP8YmU"
   },
   "outputs": [
    {
     "name": "stdout",
     "output_type": "stream",
     "text": [
      "['EURGBP', 0.76, 'EURCHF', 1.1, 'EURSEK', 10.1, 'EURAUD', 1.58, 'EURUSD', 1.22, 'EURCAD', 1.4706]\n"
     ]
    }
   ],
   "source": [
    "eur_aud = 1.58\n",
    "rates[6] = 'EURAUD'\n",
    "rates[7] = eur_aud\n",
    "print(rates)"
   ]
  },
  {
   "cell_type": "markdown",
   "metadata": {
    "id": "UsXuOCc-8tNW"
   },
   "source": [
    "Exercise 6: \n",
    "\n",
    "Let learn how to work with functions. "
   ]
  },
  {
   "cell_type": "code",
   "execution_count": 34,
   "metadata": {
    "id": "jI0gr-aE83Q-"
   },
   "outputs": [],
   "source": [
    "# Create a vector of annualised interest rates for 5 different maturities for the US and the EU\n",
    "\n",
    "irates_usd = [0.02, 0.02, 0.04, 0.09, 0.12]\n",
    "irates_eur = [0.01, 0.03, 0.052, 0.073, 0.09]\n"
   ]
  },
  {
   "cell_type": "markdown",
   "metadata": {
    "id": "PS_h_kmV9RaT"
   },
   "source": [
    "Print out the type and length of irates_usd"
   ]
  },
  {
   "cell_type": "code",
   "execution_count": 36,
   "metadata": {
    "id": "HAao9Jiz9XOb"
   },
   "outputs": [
    {
     "name": "stdout",
     "output_type": "stream",
     "text": [
      "<class 'list'>\n",
      "5\n"
     ]
    }
   ],
   "source": [
    "print(type(irates_usd))\n",
    "print(len(irates_usd))"
   ]
  },
  {
   "cell_type": "markdown",
   "metadata": {
    "id": "h2u7MGpU9jTg"
   },
   "source": [
    "Print out the index of 0.04 in the US interest rates. Print out the index of 0.03 for the EUR interest rates. "
   ]
  },
  {
   "cell_type": "code",
   "execution_count": 39,
   "metadata": {
    "id": "Ax9e2LCR-Iya"
   },
   "outputs": [
    {
     "name": "stdout",
     "output_type": "stream",
     "text": [
      "2\n",
      "1\n"
     ]
    }
   ],
   "source": [
    "print(irates_usd.index(0.04))\n",
    "print(irates_eur.index(0.03))"
   ]
  },
  {
   "cell_type": "markdown",
   "metadata": {
    "id": "ZtRRBIH6-PL9"
   },
   "source": [
    "Print out how often the value 0.02 appears for the US interest rates"
   ]
  },
  {
   "cell_type": "code",
   "execution_count": 40,
   "metadata": {
    "id": "5d9nZVHv-Z6Z"
   },
   "outputs": [
    {
     "name": "stdout",
     "output_type": "stream",
     "text": [
      "2\n"
     ]
    }
   ],
   "source": [
    "print(irates_usd.count(0.02))"
   ]
  },
  {
   "cell_type": "markdown",
   "metadata": {
    "id": "1OubWVYm-eUN"
   },
   "source": [
    "Use the command append to include the 10-year rate for both US = 0.15 and EUR = 0.13. Then print out both."
   ]
  },
  {
   "cell_type": "code",
   "execution_count": 41,
   "metadata": {
    "id": "g4NATV1T-ppp"
   },
   "outputs": [
    {
     "name": "stdout",
     "output_type": "stream",
     "text": [
      "[0.02, 0.02, 0.04, 0.09, 0.12, 0.15]\n",
      "[0.01, 0.03, 0.052, 0.073, 0.09, 0.13]\n"
     ]
    }
   ],
   "source": [
    "irates_usd.append(0.15)\n",
    "print(irates_usd)\n",
    "irates_eur.append(0.13)\n",
    "print(irates_eur)"
   ]
  },
  {
   "cell_type": "markdown",
   "metadata": {
    "id": "YloSaC4O-2oi"
   },
   "source": [
    "Reverse the order of the interest rates "
   ]
  },
  {
   "cell_type": "code",
   "execution_count": 46,
   "metadata": {
    "id": "CZDHMnZv-5Tc"
   },
   "outputs": [
    {
     "name": "stdout",
     "output_type": "stream",
     "text": [
      "[0.15, 0.12, 0.09, 0.04, 0.02, 0.02]\n"
     ]
    }
   ],
   "source": [
    "irates_usd.reverse()\n",
    "print(irates_usd)"
   ]
  }
 ],
 "metadata": {
  "colab": {
   "authorship_tag": "ABX9TyNrxG5u3QciYRR3pWVTXAPT",
   "collapsed_sections": [],
   "mount_file_id": "1jA56F_0gquTVXRyUX-Qs3CnMrze1B5pd",
   "name": "Python for basic operations.ipynb",
   "provenance": [],
   "toc_visible": true
  },
  "kernelspec": {
   "display_name": "Python 3",
   "language": "python",
   "name": "python3"
  },
  "language_info": {
   "codemirror_mode": {
    "name": "ipython",
    "version": 3
   },
   "file_extension": ".py",
   "mimetype": "text/x-python",
   "name": "python",
   "nbconvert_exporter": "python",
   "pygments_lexer": "ipython3",
   "version": "3.8.8"
  }
 },
 "nbformat": 4,
 "nbformat_minor": 4
}
