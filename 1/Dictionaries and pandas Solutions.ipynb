{
 "cells": [
  {
   "cell_type": "markdown",
   "metadata": {},
   "source": [
    "- The first exercise asks to create two lists, one called countries and another called capitals. \n",
    "- To create a list use square brackets [] and put inside the brackets any value, either string, numeric, etc. \n",
    "- In Python, index starts from 0. \n",
    "- To create a dictionary use curly brackets {}. You need to use pairs of values, the first value is the key and the second is the value; For example, in this dictionary {'spain': 'madrid} the word 'spain' is the key and the word 'madrid' is the value"
   ]
  },
  {
   "cell_type": "markdown",
   "metadata": {
    "id": "hfvrv1c5r5FO"
   },
   "source": [
    "Exercise 1: "
   ]
  },
  {
   "cell_type": "code",
   "execution_count": 1,
   "metadata": {
    "id": "c_PSi5BersY5"
   },
   "outputs": [],
   "source": [
    "# Define a set of countries and capitals\n",
    "countries = ['spain', 'france', 'germany', 'norway']\n",
    "capitals  = ['madrid', 'paris', 'berlin', 'oslo']"
   ]
  },
  {
   "cell_type": "markdown",
   "metadata": {
    "id": "U48jozI-stmp"
   },
   "source": [
    "Get the index of Paris and print out the country for which is the capital\n"
   ]
  },
  {
   "cell_type": "code",
   "execution_count": 2,
   "metadata": {
    "id": "pcbSHsT9tROL"
   },
   "outputs": [
    {
     "name": "stdout",
     "output_type": "stream",
     "text": [
      "france\n"
     ]
    }
   ],
   "source": [
    "# to get the index of Paris, you have to include inside the .index() method the \"paris\" word\n",
    "ind_paris = capitals.index(\"paris\")\n",
    "\n",
    "# to print-out the country for which Paris is the capital, you need to include inside countries[] the ind_paris\n",
    "print(countries[ind_paris])"
   ]
  },
  {
   "cell_type": "code",
   "execution_count": 3,
   "metadata": {
    "id": "ODaCWckQtY5o"
   },
   "outputs": [
    {
     "name": "stdout",
     "output_type": "stream",
     "text": [
      "{'spain': 'madrid', 'france': 'paris', 'germany': 'berlin', 'norway': 'oslo'}\n"
     ]
    }
   ],
   "source": [
    "# Now create a dictionary for Europe\n",
    "europe = { 'spain':'madrid','france': 'paris', 'germany': 'berlin', 'norway': 'oslo' }\n",
    "print(europe)"
   ]
  },
  {
   "cell_type": "markdown",
   "metadata": {
    "id": "aQIVEf1mtbOt"
   },
   "source": [
    "Print out the value that belongs to the key 'germany'\n"
   ]
  },
  {
   "cell_type": "code",
   "execution_count": 4,
   "metadata": {
    "id": "MBVXHavrvhKP"
   },
   "outputs": [
    {
     "name": "stdout",
     "output_type": "stream",
     "text": [
      "berlin\n"
     ]
    }
   ],
   "source": [
    "# to print the value of a key from a dictionary you have to write the name of the dictionary, followed by a pair of brackets and \n",
    "# inside the brackets the respective key\n",
    "print(europe[\"germany\"])"
   ]
  },
  {
   "cell_type": "markdown",
   "metadata": {
    "id": "OBO_gigpwaC2"
   },
   "source": [
    "Add UK to Europe again"
   ]
  },
  {
   "cell_type": "code",
   "execution_count": 5,
   "metadata": {
    "id": "zTskJEvwwjPN"
   },
   "outputs": [
    {
     "name": "stdout",
     "output_type": "stream",
     "text": [
      "london\n"
     ]
    }
   ],
   "source": [
    "# to add a new key inside a dictionary you have to write the name of the dictionary, followed by a pair of brackets\n",
    "# and inside the brackets the name of the new key. then you need to assign a value to this new key\n",
    "europe['uk'] = 'london'\n",
    "print(europe['uk'])"
   ]
  },
  {
   "cell_type": "markdown",
   "metadata": {
    "id": "bim9nshtwwCd"
   },
   "source": [
    "Now create a new dictionary as "
   ]
  },
  {
   "cell_type": "code",
   "execution_count": 6,
   "metadata": {
    "id": "sIHoqL6CzFoD"
   },
   "outputs": [],
   "source": [
    "europe = {'spain':'madrid', 'france':'paris', 'germany':'bonn',\n",
    "          'norway':'oslo', 'uk':'london', 'poland':'warsaw',\n",
    "          'australia':'vienna' }"
   ]
  },
  {
   "cell_type": "markdown",
   "metadata": {
    "id": "7eiBv0xBzjps"
   },
   "source": [
    "Fix the capital of Australia"
   ]
  },
  {
   "cell_type": "code",
   "execution_count": 7,
   "metadata": {
    "id": "nRD1S-77zmXm"
   },
   "outputs": [
    {
     "name": "stdout",
     "output_type": "stream",
     "text": [
      "canberra\n"
     ]
    }
   ],
   "source": [
    "# to update a value inside a dictionary, write the name of the dictionary, followed by a pair of bracket, and then inside the \n",
    "# brackets write the name of the key you want to change. then assign a new value to this key\n",
    "europe['australia'] = 'canberra'\n",
    "print(europe['australia'])"
   ]
  },
  {
   "cell_type": "markdown",
   "metadata": {
    "id": "hKCYiePYzva0"
   },
   "source": [
    "Delete back the UK"
   ]
  },
  {
   "cell_type": "code",
   "execution_count": 8,
   "metadata": {
    "id": "450ttztZzyFA"
   },
   "outputs": [
    {
     "name": "stdout",
     "output_type": "stream",
     "text": [
      "{'spain': 'madrid', 'france': 'paris', 'germany': 'bonn', 'norway': 'oslo', 'poland': 'warsaw', 'australia': 'canberra'}\n"
     ]
    }
   ],
   "source": [
    "# to delete an entry inside a dictionary, use the function del. you need to write del() and inside the brackets you have to \n",
    "# type the name of the dictionary, followed by a pair of brackets and inside the brackets you have to write the \n",
    "# key you want to delete. \n",
    "del(europe['uk'])\n",
    "print(europe)"
   ]
  },
  {
   "cell_type": "markdown",
   "metadata": {
    "id": "-HLO4iyG0WQb"
   },
   "source": [
    "We can also define a more complex dictionary of dictionaries as"
   ]
  },
  {
   "cell_type": "code",
   "execution_count": 9,
   "metadata": {
    "id": "VF4XKtRE0apH"
   },
   "outputs": [],
   "source": [
    "# this is a dictionary of dictionaries or nested dictionaries\n",
    "europe = { 'spain': { 'capital':'madrid', 'population':46.77 },\n",
    "           'france': { 'capital':'paris', 'population':66.03 },\n",
    "           'germany': { 'capital':'berlin', 'population':80.62 },\n",
    "           'norway': { 'capital':'oslo', 'population':5.084 } }"
   ]
  },
  {
   "cell_type": "markdown",
   "metadata": {
    "id": "Dlg953pM0coi"
   },
   "source": [
    "Print out the capital of norway"
   ]
  },
  {
   "cell_type": "code",
   "execution_count": 10,
   "metadata": {
    "id": "3QCpZ7nH0vHh"
   },
   "outputs": [
    {
     "name": "stdout",
     "output_type": "stream",
     "text": [
      "oslo\n"
     ]
    }
   ],
   "source": [
    "# to find a specific value within a nested dictionary you have to use not just a key but a pair of keys\n",
    "print(europe['norway']['capital'])"
   ]
  },
  {
   "cell_type": "markdown",
   "metadata": {
    "id": "-unbNNKP01vT"
   },
   "source": [
    "Create an additional dictionary entry for Italy"
   ]
  },
  {
   "cell_type": "code",
   "execution_count": 11,
   "metadata": {
    "id": "iH5dlnoq04a3"
   },
   "outputs": [
    {
     "name": "stdout",
     "output_type": "stream",
     "text": [
      "{'spain': {'capital': 'madrid', 'population': 46.77}, 'france': {'capital': 'paris', 'population': 66.03}, 'germany': {'capital': 'berlin', 'population': 80.62}, 'norway': {'capital': 'oslo', 'population': 5.084}, 'italy': {'capital': 'rome', 'population': 59.83}}\n"
     ]
    }
   ],
   "source": [
    "# to add a new entry into a nested dictionary, you have first to create a new dictionary\n",
    "data = {'capital':'rome','population': 59.83}\n",
    "\n",
    "# then assign the new dictionary as an entry into the nested dictionary\n",
    "europe['italy'] = data\n",
    "print(europe)"
   ]
  },
  {
   "cell_type": "markdown",
   "metadata": {
    "id": "Mcnnjd_x1FId"
   },
   "source": [
    "Exercise 2: \n",
    "\n",
    "Let now work with Pandas instead of dictionaries."
   ]
  },
  {
   "cell_type": "code",
   "execution_count": 12,
   "metadata": {
    "colab": {
     "base_uri": "https://localhost:8080/"
    },
    "executionInfo": {
     "elapsed": 314,
     "status": "ok",
     "timestamp": 1622914154973,
     "user": {
      "displayName": "Daniele Bianchi",
      "photoUrl": "",
      "userId": "05520898313000038713"
     },
     "user_tz": -60
    },
    "id": "p1Z8JESu1m7V",
    "outputId": "1b4fa978-5c48-43dc-af44-bd0a600d957c"
   },
   "outputs": [
    {
     "name": "stdout",
     "output_type": "stream",
     "text": [
      "         country  drives_right  cars_per_cap\n",
      "0  United States          True           809\n",
      "1      Australia         False           731\n",
      "2          Japan         False           588\n",
      "3          India         False            18\n",
      "4         Russia          True           200\n",
      "5        Morocco          True            70\n",
      "6          Egypt          True            45\n"
     ]
    }
   ],
   "source": [
    "# import the pandas library by typing 'import package_name'\n",
    "import pandas as pd\n",
    "\n",
    "# create three lists, one for the countries names, a boolean that indicates if they drive right and then a third one indicating \n",
    "# the cars per capita\n",
    "names = ['United States', 'Australia', 'Japan', 'India', 'Russia', 'Morocco', 'Egypt']\n",
    "dr =  [True, False, False, False, True, True, True]\n",
    "cpc = [809, 731, 588, 18, 200, 70, 45]\n",
    "\n",
    "# Create dictionary my_dict, using for values the lists defined above\n",
    "my_dict = {'country': names, 'drives_right': dr, 'cars_per_cap': cpc}\n",
    "\n",
    "# Build a DataFrame cars from my_dict: cars using the pd.DataFrame function\n",
    "cars = pd.DataFrame(my_dict)\n",
    "\n",
    "print(cars)"
   ]
  },
  {
   "cell_type": "markdown",
   "metadata": {
    "id": "iGAJsh1A1z0N"
   },
   "source": [
    "Define the index of the dataframe from the row labels"
   ]
  },
  {
   "cell_type": "code",
   "execution_count": 13,
   "metadata": {
    "id": "zaCklW9-2gIi"
   },
   "outputs": [
    {
     "name": "stdout",
     "output_type": "stream",
     "text": [
      "           country  drives_right  cars_per_cap\n",
      "US   United States          True           809\n",
      "AUS      Australia         False           731\n",
      "JPN          Japan         False           588\n",
      "IN           India         False            18\n",
      "RU          Russia          True           200\n",
      "MOR        Morocco          True            70\n",
      "EG           Egypt          True            45\n"
     ]
    }
   ],
   "source": [
    "# create a new list that takes for values the countries codes\n",
    "row_labels = ['US', 'AUS', 'JPN', 'IN', 'RU', 'MOR', 'EG']\n",
    "\n",
    "# assign to the dataframe index the code countries\n",
    "cars.index = row_labels\n",
    "print(cars)"
   ]
  },
  {
   "cell_type": "markdown",
   "metadata": {
    "id": "KOmrvdm32su-"
   },
   "source": [
    "Upload a dataset on the 10-year interest rates 'GS10' and the Federal Funds Rate 'Fed' which are contained in the 'data.csv which provided in your folder"
   ]
  },
  {
   "cell_type": "code",
   "execution_count": 1,
   "metadata": {
    "colab": {
     "base_uri": "https://localhost:8080/",
     "height": 375
    },
    "executionInfo": {
     "elapsed": 323,
     "status": "error",
     "timestamp": 1622914159461,
     "user": {
      "displayName": "Daniele Bianchi",
      "photoUrl": "",
      "userId": "05520898313000038713"
     },
     "user_tz": -60
    },
    "id": "IWTqkg-221A_",
    "outputId": "1d11ddba-5756-4c4f-b374-96e0478f06c4"
   },
   "outputs": [],
   "source": [
    "# df = pd.read_csv('data.csv', index_col = 0)"
   ]
  },
  {
   "cell_type": "markdown",
   "metadata": {
    "id": "HyJWoHmg3AY3"
   },
   "source": [
    "Provide a summary of the data"
   ]
  },
  {
   "cell_type": "code",
   "execution_count": null,
   "metadata": {
    "id": "oukf03gY3CoC"
   },
   "outputs": [],
   "source": [
    "# df.describe"
   ]
  },
  {
   "cell_type": "markdown",
   "metadata": {
    "id": "FKqQzMC23NGN"
   },
   "source": [
    "Calculat the mean, median and standard deviation of the interest rates"
   ]
  },
  {
   "cell_type": "code",
   "execution_count": null,
   "metadata": {
    "id": "MDWDxqTW3QuZ"
   },
   "outputs": [],
   "source": [
    "#avg    = df.\n",
    "#median = df.\n",
    "#std    = df."
   ]
  },
  {
   "cell_type": "markdown",
   "metadata": {
    "id": "eGnNkCw158f1"
   },
   "source": [
    "Plot the time series of 10-year interest rates GS10"
   ]
  },
  {
   "cell_type": "code",
   "execution_count": null,
   "metadata": {
    "id": "YxghGwQl6AFZ"
   },
   "outputs": [],
   "source": [
    "#import ? as plt\n",
    "#df[''].plot(ylabel = '10yrs')\n",
    "#plt.show()"
   ]
  },
  {
   "cell_type": "markdown",
   "metadata": {
    "id": "sL5QcEG86NF9"
   },
   "source": [
    "Print out the observation for a specific date"
   ]
  },
  {
   "cell_type": "code",
   "execution_count": null,
   "metadata": {
    "id": "XTtvyHqh6P4Q"
   },
   "outputs": [],
   "source": [
    "#date = '01/07/1987'\n",
    "#print(df.loc[])"
   ]
  },
  {
   "cell_type": "markdown",
   "metadata": {
    "id": "X21SMqq66gJH"
   },
   "source": [
    "Print out the observations for two specific dates"
   ]
  },
  {
   "cell_type": "code",
   "execution_count": null,
   "metadata": {
    "id": "eewvhM6I6kkc"
   },
   "outputs": [],
   "source": [
    "#date_1 = '01/07/1987'\n",
    "#date_2 = '01/10/2019'\n",
    "#print(df.loc[])"
   ]
  },
  {
   "cell_type": "markdown",
   "metadata": {
    "id": "gqwz_hcA7DM3"
   },
   "source": [
    "Print out the observation in the position 250th"
   ]
  },
  {
   "cell_type": "code",
   "execution_count": null,
   "metadata": {
    "id": "9ZprFD2a7F9g"
   },
   "outputs": [],
   "source": [
    "#ind = 250\n",
    "#print(df.iloc[])"
   ]
  },
  {
   "cell_type": "markdown",
   "metadata": {
    "id": "qxTX2eEo8mjt"
   },
   "source": [
    "Plot the scatter of the 10-year and the fed fund rate"
   ]
  },
  {
   "cell_type": "code",
   "execution_count": null,
   "metadata": {
    "id": "l3o8GTMS8ytD"
   },
   "outputs": [],
   "source": [
    "#plt.scatter(df['GS10'],...)\n",
    "#plt.show()"
   ]
  },
  {
   "cell_type": "markdown",
   "metadata": {
    "id": "pDtQ9mNb85lb"
   },
   "source": [
    "Add to the plot the label for the x-axis \"10-year rate\" and the for the y-axis \"Fed fund rate\". Write also your preferred title."
   ]
  },
  {
   "cell_type": "code",
   "execution_count": null,
   "metadata": {
    "id": "YwH4bx1G89co"
   },
   "outputs": [],
   "source": [
    "#plt.scatter(df['GS10'],df['Fed'])\n",
    "#plt.xlabel('')\n",
    "#plt.ylabel('')\n",
    "#plt.title('')\n",
    "#plt.grid(True)\n",
    "#plt.show()"
   ]
  }
 ],
 "metadata": {
  "colab": {
   "authorship_tag": "ABX9TyNxjscthXWFYDp9rdnroCsL",
   "collapsed_sections": [],
   "name": "Dictionaries and pandas.ipynb",
   "provenance": [
    {
     "file_id": "11sVU5FrikqrC3qItQ7hLZjIC8JESVktk",
     "timestamp": 1622587184575
    }
   ]
  },
  "kernelspec": {
   "display_name": "Python 3",
   "language": "python",
   "name": "python3"
  },
  "language_info": {
   "codemirror_mode": {
    "name": "ipython",
    "version": 3
   },
   "file_extension": ".py",
   "mimetype": "text/x-python",
   "name": "python",
   "nbconvert_exporter": "python",
   "pygments_lexer": "ipython3",
   "version": "3.8.8"
  }
 },
 "nbformat": 4,
 "nbformat_minor": 4
}
