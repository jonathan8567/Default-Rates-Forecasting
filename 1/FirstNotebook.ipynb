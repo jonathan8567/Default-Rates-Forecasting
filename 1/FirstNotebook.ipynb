{
 "cells": [
  {
   "cell_type": "markdown",
   "id": "dcd9580a-69b2-49f3-99e2-bb3f10ef6f49",
   "metadata": {},
   "source": [
    "deposit * (1 + int_rate) ^ maturity"
   ]
  },
  {
   "cell_type": "code",
   "execution_count": 5,
   "id": "85d956fc-44b3-4140-b967-ffa11250767f",
   "metadata": {},
   "outputs": [
    {
     "name": "stdout",
     "output_type": "stream",
     "text": [
      "259.3742460100002\n"
     ]
    }
   ],
   "source": [
    "deposit = 100\n",
    "int_rate = 0.1\n",
    "maturity = 10\n",
    "\n",
    "print(deposit* (1 + int_rate) ** maturity)"
   ]
  },
  {
   "cell_type": "markdown",
   "id": "d2d687d5-c3ab-43e0-85b3-711e9e9a6a10",
   "metadata": {},
   "source": [
    "To execute command on a cell, use \"alt + enter\""
   ]
  },
  {
   "cell_type": "code",
   "execution_count": 6,
   "id": "3bc7dd17-2f4a-4c7c-89d3-d45675831443",
   "metadata": {},
   "outputs": [
    {
     "name": "stdout",
     "output_type": "stream",
     "text": [
      "[0.86, 1.22, 1.1]\n"
     ]
    }
   ],
   "source": [
    "eur_gbp = 0.86\n",
    "eur_usd = 1.22\n",
    "eur_chf = 1.10\n",
    "\n",
    "fx = [eur_gbp, eur_usd, eur_chf]\n",
    "print(fx)"
   ]
  },
  {
   "cell_type": "code",
   "execution_count": 7,
   "id": "5874b9c2-abce-4587-8e31-297dcc775aff",
   "metadata": {},
   "outputs": [
    {
     "name": "stdout",
     "output_type": "stream",
     "text": [
      "['EUR/GBP', 0.86, 'EUR/USD', 1.22, 'EUR/CHF', 1.1]\n"
     ]
    }
   ],
   "source": [
    "fx = ['EUR/GBP', eur_gbp, 'EUR/USD', eur_usd, 'EUR/CHF', eur_chf]\n",
    "print(fx)"
   ]
  },
  {
   "cell_type": "code",
   "execution_count": 25,
   "id": "eed1a97c-5e2b-4afb-ba2b-e4454648d59e",
   "metadata": {},
   "outputs": [
    {
     "name": "stdout",
     "output_type": "stream",
     "text": [
      "[ 0.01  -0.01  -0.012  0.017  0.03 ]\n",
      "Descriptive statistics: [0.007, 0.01, 0.016]\n",
      "\n",
      "[[0.02  0.02  0.04  0.09  0.12 ]\n",
      " [0.01  0.03  0.052 0.073 0.09 ]]\n",
      "\n",
      "\n",
      "Average usd rate: 0.058\n",
      "Average 1 yr rate: 0.015\n",
      "\n",
      "Median usd rate: 0.04\n",
      "STD usd rate: 0.04\n",
      "\n",
      "Correlation:\n",
      "[[1.         0.94540331]\n",
      " [0.94540331 1.        ]]\n"
     ]
    }
   ],
   "source": [
    "import numpy as np\n",
    "\n",
    "irates_usd = [0.02, 0.02, 0.04, 0.09, 0.12]\n",
    "irates_eur = [0.01, 0.03, 0.052, 0.073, 0.09]\n",
    "\n",
    "nrates_usd = np.array(irates_usd)\n",
    "nrates_eur = np.array(irates_eur) \n",
    "#np.array() transform list of values to an array\n",
    "\n",
    "spreads = nrates_usd - nrates_eur\n",
    "print(spreads)\n",
    "\n",
    "mean = round(np.mean(spreads), 3)\n",
    "median = round(np.median(spreads), 3)\n",
    "std = round(np.std(spreads), 3)\n",
    "print(\"Descriptive statistics: {}\\n\". format([mean, median, std]))\n",
    "\n",
    "rates = [irates_usd, irates_eur]\n",
    "np_rates = np.array(rates)\n",
    "print(np_rates)\n",
    "print(\"\\n\")\n",
    "\n",
    "avg_usd = round(np.mean(np_rates[0,:]), 3)\n",
    "print(\"Average usd rate: \" + str(avg_usd))\n",
    "avg_1yr = round(np.mean(np_rates[:,0]), 3)\n",
    "print(\"Average 1 yr rate: \" + str(avg_1yr) + \"\\n\")\n",
    "\n",
    "median_usd = round(np.median(np_rates[0,:]), 3)\n",
    "print('Median usd rate: ' + str(median_usd))\n",
    "std_usd = round(np.std(np_rates[0,:]), 3)\n",
    "print('STD usd rate: ' + str(std_usd) + '\\n')\n",
    "\n",
    "corr = np.corrcoef(np_rates[0,:] , np_rates[1,:])\n",
    "print('Correlation:\\n' + str(corr))"
   ]
  },
  {
   "cell_type": "code",
   "execution_count": null,
   "id": "7aeb78ff-3c92-43bb-bc5b-7c5a147ac280",
   "metadata": {},
   "outputs": [],
   "source": []
  }
 ],
 "metadata": {
  "kernelspec": {
   "display_name": "Python 3",
   "language": "python",
   "name": "python3"
  },
  "language_info": {
   "codemirror_mode": {
    "name": "ipython",
    "version": 3
   },
   "file_extension": ".py",
   "mimetype": "text/x-python",
   "name": "python",
   "nbconvert_exporter": "python",
   "pygments_lexer": "ipython3",
   "version": "3.8.8"
  }
 },
 "nbformat": 4,
 "nbformat_minor": 5
}
