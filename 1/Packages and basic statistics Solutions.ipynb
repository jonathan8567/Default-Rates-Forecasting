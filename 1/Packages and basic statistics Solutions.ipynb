{
 "cells": [
  {
   "cell_type": "markdown",
   "metadata": {
    "id": "_D1yh9-1_aj2"
   },
   "source": [
    "Exercise 1:\n",
    "\n",
    "Let's look how we can work with packages. "
   ]
  },
  {
   "cell_type": "code",
   "execution_count": 1,
   "metadata": {
    "id": "Pe-i4tYO_ib0"
   },
   "outputs": [],
   "source": [
    "# Consider the vector of int rates defined before. \n",
    "irates_usd = [0.02, 0.02, 0.04, 0.09, 0.12]\n",
    "irates_eur = [0.01, 0.03, 0.052, 0.073, 0.09]"
   ]
  },
  {
   "cell_type": "markdown",
   "metadata": {
    "id": "cQi_6Gc3_zlD"
   },
   "source": [
    "Import the numpy as a package"
   ]
  },
  {
   "cell_type": "code",
   "execution_count": 2,
   "metadata": {
    "id": "ef7miuV6_1cx"
   },
   "outputs": [],
   "source": [
    "import numpy as np"
   ]
  },
  {
   "cell_type": "markdown",
   "metadata": {
    "id": "ktvWXlyW_3YV"
   },
   "source": [
    "Create an array from the interest rates of both USD and EUR and call it nrates_*"
   ]
  },
  {
   "cell_type": "code",
   "execution_count": 3,
   "metadata": {
    "id": "PFp_DiLiAE7H"
   },
   "outputs": [
    {
     "name": "stdout",
     "output_type": "stream",
     "text": [
      "[0.02 0.02 0.04 0.09 0.12]\n",
      "[0.01  0.03  0.052 0.073 0.09 ]\n"
     ]
    }
   ],
   "source": [
    "nrates_usd = np.array(irates_usd)\n",
    "print(nrates_usd)\n",
    "\n",
    "nrates_eur = np.array(irates_eur)\n",
    "print(nrates_eur)"
   ]
  },
  {
   "cell_type": "markdown",
   "metadata": {
    "id": "cbds_IjSAR4S"
   },
   "source": [
    "Convert the values from decimals to percentages"
   ]
  },
  {
   "cell_type": "code",
   "execution_count": 4,
   "metadata": {
    "id": "qj65lpKEAU-P"
   },
   "outputs": [
    {
     "name": "stdout",
     "output_type": "stream",
     "text": [
      "[ 2.  2.  4.  9. 12.]\n",
      "[1.  3.  5.2 7.3 9. ]\n"
     ]
    }
   ],
   "source": [
    "nrates_usd = nrates_usd * 100\n",
    "print(nrates_usd)\n",
    "\n",
    "nrates_eur = nrates_eur * 100\n",
    "print(nrates_eur)"
   ]
  },
  {
   "cell_type": "markdown",
   "metadata": {
    "id": "EDTE8lQrAXEL"
   },
   "source": [
    "Calculate the spread of the rates for each maturity. "
   ]
  },
  {
   "cell_type": "code",
   "execution_count": 5,
   "metadata": {
    "id": "kK6dl5oHApAa"
   },
   "outputs": [
    {
     "name": "stdout",
     "output_type": "stream",
     "text": [
      "[ 1.  -1.  -1.2  1.7  3. ]\n"
     ]
    }
   ],
   "source": [
    "spread = nrates_usd - nrates_eur\n",
    "print(spread)"
   ]
  },
  {
   "cell_type": "markdown",
   "metadata": {
    "id": "gR6OhFgIA0Zt"
   },
   "source": [
    "Print out the spreads which are positive"
   ]
  },
  {
   "cell_type": "code",
   "execution_count": 6,
   "metadata": {
    "id": "YRq1jUWcBA5f"
   },
   "outputs": [
    {
     "name": "stdout",
     "output_type": "stream",
     "text": [
      "[1.  1.7 3. ]\n"
     ]
    }
   ],
   "source": [
    "print(spread[(spread > 0)])"
   ]
  },
  {
   "cell_type": "markdown",
   "metadata": {
    "id": "URxu7iRcBtrI"
   },
   "source": [
    "Create the matrix of rates as a list of lists\n"
   ]
  },
  {
   "cell_type": "code",
   "execution_count": 7,
   "metadata": {
    "id": "YoqTTt_HBweD"
   },
   "outputs": [],
   "source": [
    "rates = [nrates_usd, nrates_eur]"
   ]
  },
  {
   "cell_type": "markdown",
   "metadata": {
    "id": "-mpUc-NiB2lL"
   },
   "source": [
    "Create a 2D array from the list of lists of rates and print out its shape"
   ]
  },
  {
   "cell_type": "code",
   "execution_count": 8,
   "metadata": {
    "id": "niDc7GG5B6FK"
   },
   "outputs": [
    {
     "name": "stdout",
     "output_type": "stream",
     "text": [
      "(2, 5)\n"
     ]
    }
   ],
   "source": [
    "np_rates = np.asarray(rates)\n",
    "print(np.shape(np_rates))"
   ]
  },
  {
   "cell_type": "markdown",
   "metadata": {
    "id": "gwgnLtN0CEZX"
   },
   "source": [
    "Exercise 2: \n",
    "\n",
    "Let try to use some basic statistics. "
   ]
  },
  {
   "cell_type": "markdown",
   "metadata": {
    "id": "bluzGB1vCJlb"
   },
   "source": [
    "Print the mean of the EUR and the USD rates"
   ]
  },
  {
   "cell_type": "code",
   "execution_count": 3,
   "metadata": {
    "id": "W8YVhsmbCMet"
   },
   "outputs": [
    {
     "ename": "NameError",
     "evalue": "name 'np_rates' is not defined",
     "output_type": "error",
     "traceback": [
      "\u001b[1;31m---------------------------------------------------------------------------\u001b[0m",
      "\u001b[1;31mNameError\u001b[0m                                 Traceback (most recent call last)",
      "\u001b[1;32m<ipython-input-3-9169c0de1510>\u001b[0m in \u001b[0;36m<module>\u001b[1;34m\u001b[0m\n\u001b[1;32m----> 1\u001b[1;33m \u001b[0mavg_usd\u001b[0m \u001b[1;33m=\u001b[0m \u001b[0mnp\u001b[0m\u001b[1;33m.\u001b[0m\u001b[0mmean\u001b[0m\u001b[1;33m(\u001b[0m\u001b[0mnp_rates\u001b[0m\u001b[1;33m[\u001b[0m\u001b[1;36m0\u001b[0m\u001b[1;33m,\u001b[0m\u001b[1;33m:\u001b[0m\u001b[1;33m]\u001b[0m\u001b[1;33m)\u001b[0m\u001b[1;33m\u001b[0m\u001b[1;33m\u001b[0m\u001b[0m\n\u001b[0m\u001b[0;32m      2\u001b[0m \u001b[0mprint\u001b[0m\u001b[1;33m(\u001b[0m\u001b[1;34m'Average:'\u001b[0m \u001b[1;33m+\u001b[0m \u001b[0mstr\u001b[0m\u001b[1;33m(\u001b[0m\u001b[0mavg_usd\u001b[0m\u001b[1;33m)\u001b[0m\u001b[1;33m)\u001b[0m\u001b[1;33m\u001b[0m\u001b[1;33m\u001b[0m\u001b[0m\n\u001b[0;32m      3\u001b[0m \u001b[1;33m\u001b[0m\u001b[0m\n\u001b[0;32m      4\u001b[0m \u001b[0mavg_eur\u001b[0m \u001b[1;33m=\u001b[0m \u001b[0mnp\u001b[0m\u001b[1;33m.\u001b[0m\u001b[0mmean\u001b[0m\u001b[1;33m(\u001b[0m\u001b[0mnp_rates\u001b[0m\u001b[1;33m[\u001b[0m\u001b[1;36m1\u001b[0m\u001b[1;33m,\u001b[0m\u001b[1;33m:\u001b[0m\u001b[1;33m]\u001b[0m\u001b[1;33m)\u001b[0m\u001b[1;33m\u001b[0m\u001b[1;33m\u001b[0m\u001b[0m\n\u001b[0;32m      5\u001b[0m \u001b[0mprint\u001b[0m\u001b[1;33m(\u001b[0m\u001b[1;34m'Average: '\u001b[0m \u001b[1;33m+\u001b[0m \u001b[0mstr\u001b[0m\u001b[1;33m(\u001b[0m\u001b[0mavg_eur\u001b[0m\u001b[1;33m)\u001b[0m\u001b[1;33m)\u001b[0m\u001b[1;33m\u001b[0m\u001b[1;33m\u001b[0m\u001b[0m\n",
      "\u001b[1;31mNameError\u001b[0m: name 'np_rates' is not defined"
     ]
    }
   ],
   "source": [
    "avg_usd = np.mean(np_rates[0,:])\n",
    "print('Average:' + str(avg_usd))\n",
    "\n",
    "avg_eur = np.mean(np_rates[1,:])\n",
    "print('Average: ' + str(avg_eur))"
   ]
  },
  {
   "cell_type": "markdown",
   "metadata": {
    "id": "vHhNooEZCWov"
   },
   "source": [
    "Print the median of the EUR and the USD rates"
   ]
  },
  {
   "cell_type": "code",
   "execution_count": 12,
   "metadata": {
    "id": "BQagLzbtCtjz"
   },
   "outputs": [
    {
     "name": "stdout",
     "output_type": "stream",
     "text": [
      "Median: 4.0\n",
      "Median: 5.2\n"
     ]
    }
   ],
   "source": [
    "median_usd = np.median(np_rates[0,:])\n",
    "print('Median: ' + str(median_usd))\n",
    "\n",
    "median_eur = np.median(np_rates[1,:])\n",
    "print('Median: ' + str(median_eur))"
   ]
  },
  {
   "cell_type": "markdown",
   "metadata": {
    "id": "Us-OksIuC5Iu"
   },
   "source": [
    "Print the standard deviation of both EUR and USD rates"
   ]
  },
  {
   "cell_type": "code",
   "execution_count": 13,
   "metadata": {
    "id": "ZWN344NgC9GY"
   },
   "outputs": [
    {
     "name": "stdout",
     "output_type": "stream",
     "text": [
      "Std : 0.0\n",
      "Std : 2.8733255993708755\n"
     ]
    }
   ],
   "source": [
    "std_usd = np.std(np_rates[0,:])\n",
    "print('Std : ' + str(std_usd))\n",
    "\n",
    "std_eur = np.std(np_rates[1,:])\n",
    "print('Std : ' + str(std_eur))"
   ]
  },
  {
   "cell_type": "markdown",
   "metadata": {
    "id": "CBPg5HGPDI_W"
   },
   "source": [
    "Print the correlation between the EUR and the USD rates"
   ]
  },
  {
   "cell_type": "code",
   "execution_count": 14,
   "metadata": {
    "id": "DdsP6Mo8DMWA"
   },
   "outputs": [
    {
     "name": "stdout",
     "output_type": "stream",
     "text": [
      "correlation[[1.         0.94540331]\n",
      " [0.94540331 1.        ]]\n"
     ]
    }
   ],
   "source": [
    "corr = np.corrcoef(np_rates[0,:],\n",
    "                  np_rates[1,:])\n",
    "print('correlation' + str(corr))"
   ]
  }
 ],
 "metadata": {
  "colab": {
   "authorship_tag": "ABX9TyO9kdcDbFym9tVPJR+2Iqid",
   "collapsed_sections": [],
   "name": "Packages and basic statistics.ipynb",
   "provenance": []
  },
  "kernelspec": {
   "display_name": "Python 3",
   "language": "python",
   "name": "python3"
  },
  "language_info": {
   "codemirror_mode": {
    "name": "ipython",
    "version": 3
   },
   "file_extension": ".py",
   "mimetype": "text/x-python",
   "name": "python",
   "nbconvert_exporter": "python",
   "pygments_lexer": "ipython3",
   "version": "3.8.8"
  }
 },
 "nbformat": 4,
 "nbformat_minor": 4
}
