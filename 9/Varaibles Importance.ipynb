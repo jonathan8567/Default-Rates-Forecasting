{
 "cells": [
  {
   "cell_type": "code",
   "execution_count": 2,
   "id": "6fae25a3-6b12-406b-a197-7b45ca3a0918",
   "metadata": {},
   "outputs": [],
   "source": [
    "import statsmodels.api as sm\n",
    "import pandas as pd\n",
    "\n",
    "df = pd.read_csv('Boston.csv', index_col = 0)"
   ]
  },
  {
   "cell_type": "code",
   "execution_count": 3,
   "id": "f93cf646-43f4-4558-b0cc-6217b5aa79e8",
   "metadata": {},
   "outputs": [],
   "source": [
    "from sklearn.ensemble import RandomForestRegressor\n",
    "\n",
    "from sklearn.inspection import permutation_importance\n",
    "from sklearn.model_selection import train_test_split\n",
    "\n",
    "import numpy as np\n",
    "import matplotlib.pyplot as plt"
   ]
  },
  {
   "cell_type": "code",
   "execution_count": 4,
   "id": "c1c49cb2-8e8f-4c48-91e7-8f7514c1330f",
   "metadata": {},
   "outputs": [],
   "source": [
    "X = df[['rm', 'age', 'crim', 'indus', 'nox', 'tax', 'ptratio', 'lstat']]\n",
    "\n",
    "y = df['medv']\n",
    "\n",
    "feature_names = X.columns\n",
    "\n",
    "X_train, X_test, y_train, y_test = train_test_split(X, y, test_size = 0.33, random_state = 42)"
   ]
  },
  {
   "cell_type": "code",
   "execution_count": 5,
   "id": "5a3db835-c58f-4f49-872f-1f2b8538dd5b",
   "metadata": {},
   "outputs": [
    {
     "data": {
      "text/plain": [
       "RandomForestRegressor(random_state=42)"
      ]
     },
     "execution_count": 5,
     "metadata": {},
     "output_type": "execute_result"
    }
   ],
   "source": [
    "rf = RandomForestRegressor(random_state = 42)\n",
    "\n",
    "rf.fit(X_train, y_train)"
   ]
  },
  {
   "cell_type": "code",
   "execution_count": 6,
   "id": "712d84c8-c0fb-4421-b326-f52708c7b857",
   "metadata": {},
   "outputs": [
    {
     "name": "stdout",
     "output_type": "stream",
     "text": [
      "RF train accuracy: 0.976\n",
      "RF test accuracy: 0.834\n"
     ]
    }
   ],
   "source": [
    "print(\"RF train accuracy: %0.3f\" % rf.score(X_train, y_train))\n",
    "print(\"RF test accuracy: %0.3f\" % rf.score(X_test, y_test))"
   ]
  },
  {
   "cell_type": "code",
   "execution_count": 7,
   "id": "c54577a9-09a0-4259-8608-0caaebae119b",
   "metadata": {},
   "outputs": [],
   "source": [
    "#retrieve from the random forest the importance of the features; the higher the number, the higher its importance\n",
    "tree_feature_importances = rf.feature_importances_\n",
    "\n",
    "#create the sorted index index of the features importance from lowest to highest\n",
    "sorted_idx = tree_feature_importances.argsort()\n",
    "\n",
    "#create multi-dimensional array; one dimension with the sorted feature names and one with the sorted importance and then transpose it\n",
    "df_1 = np.array([feature_names[sorted_idx], tree_feature_importances[sorted_idx]]).T\n",
    "\n",
    "#convert the array into dataframe\n",
    "df_1 = pd.DataFrame(df_1)\n",
    "\n",
    "#rename the columns of the dataframe\n",
    "df_1.columns = ['Predictor', 'Variable importance']\n",
    "\n",
    "#defien the index of the dataframe\n",
    "df_1.index = feature_names[sorted_idx]"
   ]
  },
  {
   "cell_type": "code",
   "execution_count": 8,
   "id": "735f031a-b078-4b0a-9871-fcf561dcb5fa",
   "metadata": {},
   "outputs": [
    {
     "data": {
      "image/png": "[encoded data removed]",
      "text/plain": [
       "<Figure size 468x468 with 1 Axes>"
      ]
     },
     "metadata": {},
     "output_type": "display_data"
    }
   ],
   "source": [
    "import seaborn as sns\n",
    "sns.set_theme(color_codes=True)\n",
    "\n",
    "#create a series of num that starts from zero and goes up to the length of the features_names variable\n",
    "y_ticks = np.arange(0, len(feature_names))\n",
    "\n",
    "#define the size of the figure\n",
    "fx, ax = plt.subplots(figsize = (6.5, 6.5))\n",
    "\n",
    "#plot a barplot and define the x and y values, the dataset that will be used and the colours to be used\n",
    "ax = sns.barplot(x='Variable importance', y = 'Predictor', data = df_1, palette = 'Blues_d')\n",
    "\n",
    "plt.savefig('Fig001.pdf')"
   ]
  },
  {
   "cell_type": "code",
   "execution_count": 9,
   "id": "20725f3b-62e1-424e-b717-7ff8907f22f5",
   "metadata": {},
   "outputs": [
    {
     "data": {
      "image/png": "[encoded data removed]",
      "text/plain": [
       "<Figure size 468x468 with 1 Axes>"
      ]
     },
     "metadata": {},
     "output_type": "display_data"
    }
   ],
   "source": [
    "#run the permutation importance for the random forest using the testing X and Y data\n",
    "#n_repeat defines the num of times to permute a feature\n",
    "#random_state allows to be able to replicate the results\n",
    "#n_jobs defines the num of jobs to run in parallel (that refers to multi-processing)\n",
    "result = permutation_importance(rf, X_test, y_test, n_repeats=10, random_state=42, n_jobs=20)\n",
    "\n",
    "#sort the importances_mean from lowest to largest\n",
    "#importances_mean is the average importance for the n_repeats\n",
    "sorted_idx = result.importances_mean.argsort()\n",
    "\n",
    "#define the figure size\n",
    "fx, ax = plt.subplots(figsize=(6.5,6.5))\n",
    "\n",
    "#create a boxplot using the sorted importances\n",
    "#use for labels in the y-axis the names of the testing X dataset\n",
    "#vert allows to create a horizontal boxplot with lines going from left to right instead of being vertical\n",
    "ax.boxplot(result.importances[sorted_idx].T, vert=False, labels=X_test.columns[sorted_idx])\n",
    "\n",
    "#define the general title of the boxplot\n",
    "ax.set_title('Permutation Importances (test set)')\n",
    "plt.show()"
   ]
  }
 ],
 "metadata": {
  "kernelspec": {
   "display_name": "Python 3",
   "language": "python",
   "name": "python3"
  },
  "language_info": {
   "codemirror_mode": {
    "name": "ipython",
    "version": 3
   },
   "file_extension": ".py",
   "mimetype": "text/x-python",
   "name": "python",
   "nbconvert_exporter": "python",
   "pygments_lexer": "ipython3",
   "version": "3.8.8"
  }
 },
 "nbformat": 4,
 "nbformat_minor": 5
}
